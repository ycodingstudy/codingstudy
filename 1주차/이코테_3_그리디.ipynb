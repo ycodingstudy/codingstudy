{
  "nbformat": 4,
  "nbformat_minor": 0,
  "metadata": {
    "colab": {
      "provenance": []
    },
    "kernelspec": {
      "name": "python3",
      "display_name": "Python 3"
    },
    "language_info": {
      "name": "python"
    }
  },
  "cells": [
    {
      "cell_type": "markdown",
      "source": [
        "# 예시문제\n",
        "N이 1이 될 때까지  \n",
        "과정1: N에서 1을 뺀다  \n",
        "과정2: N을 K로 나눈다  \n",
        "둘 중 하나를 수행한다. 이 때 최소 횟수\n",
        "* 문제 조건\n",
        "  * 1 <= N <= 100,000\n",
        "  * 2 <= K <= 100,000\n",
        "\n",
        "\n"
      ],
      "metadata": {
        "id": "bMz1hVdoLQtK"
      }
    },
    {
      "cell_type": "code",
      "source": [
        "def solution(N, K):\n",
        "  count = 0\n",
        "  while N > 1:\n",
        "    if N % K == 0:\n",
        "      N /= K\n",
        "      count += 1\n",
        "    else:\n",
        "      N -= 1\n",
        "      count += 1\n",
        "  return count"
      ],
      "metadata": {
        "id": "udW7D5AlLxMP"
      },
      "execution_count": null,
      "outputs": []
    },
    {
      "cell_type": "code",
      "source": [
        "solution(23, 6)"
      ],
      "metadata": {
        "colab": {
          "base_uri": "https://localhost:8080/"
        },
        "id": "91OmR5pGMapO",
        "outputId": "bf4dd72f-1cae-4fac-e39f-eeb3c1cafec4"
      },
      "execution_count": null,
      "outputs": [
        {
          "output_type": "execute_result",
          "data": {
            "text/plain": [
              "8"
            ]
          },
          "metadata": {},
          "execution_count": 2
        }
      ]
    },
    {
      "cell_type": "markdown",
      "source": [
        "## 답안예시"
      ],
      "metadata": {
        "id": "F75OBfqQO7Sv"
      }
    },
    {
      "cell_type": "code",
      "source": [
        "# n, k를 공백을 기준으로 구분하여 입력받기\n",
        "n, k = map(int, input().split())\n",
        "\n",
        "result = 0\n",
        "\n",
        "while True:\n",
        "  print('1: ', n, result)\n",
        "  target = (n // k) * k\n",
        "  result += n - target\n",
        "  n = target\n",
        "  print('2: ', n, result)\n",
        "  if n < k:\n",
        "    break\n",
        "\n",
        "  n //= k\n",
        "  result += 1\n",
        "\n",
        "result += n - 1\n",
        "print(result)"
      ],
      "metadata": {
        "colab": {
          "base_uri": "https://localhost:8080/"
        },
        "id": "tIFkoTVCOScR",
        "outputId": "e70a66db-ccc1-4cd5-addc-475b5d738710"
      },
      "execution_count": null,
      "outputs": [
        {
          "output_type": "stream",
          "name": "stdout",
          "text": [
            "100001 567\n",
            "1:  100001 0\n",
            "2:  99792 209\n",
            "1:  176 210\n",
            "2:  0 386\n",
            "385\n"
          ]
        }
      ]
    },
    {
      "cell_type": "markdown",
      "source": [
        "# 문제1 모험가길드\n",
        "p.311  \n",
        "모험가 n 명 대상으로 '공포도' 측정.  \n",
        "공포도가 x인 모험가는 반드시 x명 이상으로 구성한 모험가 그룹에 참여해야 여행을 떠날 수 있다.  \n",
        "최대 몇개의 모험가 그룹을 만들 수 있는가?  \n",
        "* 문제 조건\n",
        "  * 1 <= n <= 100,000\n",
        "  * 각 모험가의 공포도는 n 이하의 자연수로 주어지며 각 자연수는 공백으로 구분한다"
      ],
      "metadata": {
        "id": "f51cczJgjktv"
      }
    },
    {
      "cell_type": "markdown",
      "source": [
        "## 내 답안"
      ],
      "metadata": {
        "id": "WV0_M96ps2Ww"
      }
    },
    {
      "cell_type": "code",
      "source": [
        "import copy\n",
        "def solution(n, fear):\n",
        "  fear = sorted(list(map(int, fear.split())))\n",
        "  cnt = 1\n",
        "  result = 0\n",
        "  for i in range(len(fear)):\n",
        "    if fear[i] == cnt:\n",
        "      result += 1\n",
        "      cnt = 1\n",
        "    elif fear[i] > cnt:\n",
        "      cnt += 1\n",
        "\n",
        "  return result\n",
        "\n",
        "solution(10, \"5 1 2 3 4 1 2 1 5 1\")"
      ],
      "metadata": {
        "id": "Mze8hnN6klNK",
        "colab": {
          "base_uri": "https://localhost:8080/"
        },
        "outputId": "f88d5018-6c76-46f1-f8aa-8e8f69fa0b0a"
      },
      "execution_count": null,
      "outputs": [
        {
          "output_type": "execute_result",
          "data": {
            "text/plain": [
              "5"
            ]
          },
          "metadata": {},
          "execution_count": 3
        }
      ]
    },
    {
      "cell_type": "markdown",
      "source": [
        "## 정답\n",
        "p.506"
      ],
      "metadata": {
        "id": "cXP1OmKds5ap"
      }
    },
    {
      "cell_type": "code",
      "source": [
        "n = int(input())\n",
        "data = list(map(int, input().split()))\n",
        "data.sort()\n",
        "\n",
        "result = 0 # 총 그룹의 수\n",
        "count = 0 # 현재 그룹에 포함된 모험가의 수\n",
        "\n",
        "for i in data:\n",
        "  count += 1\n",
        "  if count >= i:\n",
        "    result += 1\n",
        "    count = 0\n",
        "\n",
        "print(result)"
      ],
      "metadata": {
        "colab": {
          "base_uri": "https://localhost:8080/"
        },
        "id": "IDjrmb4Is8DP",
        "outputId": "95ab3827-98e0-42e0-8232-328f9091402c"
      },
      "execution_count": null,
      "outputs": [
        {
          "output_type": "stream",
          "name": "stdout",
          "text": [
            "10\n",
            "5 1 2 3 4 1 2 1 5 1\n",
            "5\n"
          ]
        }
      ]
    },
    {
      "cell_type": "markdown",
      "source": [
        "# 문제2 곱하기 혹은 더하기\n",
        "각 자리가 숫자(0~9)로만 이루어진 문자열 S가 주어졌을 때, 왼쪽부터 오른쪽으로 하나씩 모든 숫자를 확인하며 숫자 사이에 'x'혹은 '+' 연산자를 넣어 결과적으로 만들어질 수 있는 가장 큰 수를 구하는 프로그램을 작성하세요. 단, +보다 x를 먼저 계산하는 일반적인 방식과는 달리, 모든 연산은 왼쪽에서부터 순서대로 이루어진다고 가정합니다."
      ],
      "metadata": {
        "id": "6g_cmGneU3UT"
      }
    },
    {
      "cell_type": "markdown",
      "source": [
        "## 내 답안"
      ],
      "metadata": {
        "id": "N3eku3APtRLA"
      }
    },
    {
      "cell_type": "code",
      "source": [
        "def solution(S):\n",
        "  S = S.replace('0', '')\n",
        "  answer = 1\n",
        "  for i in S:\n",
        "    i = int(i)\n",
        "    if i > 1:\n",
        "      answer *= i\n",
        "    else:\n",
        "      answer += i\n",
        "  return answer"
      ],
      "metadata": {
        "id": "BU_kP7KaOOnu"
      },
      "execution_count": null,
      "outputs": []
    },
    {
      "cell_type": "code",
      "source": [
        "solution(\"580468\")"
      ],
      "metadata": {
        "colab": {
          "base_uri": "https://localhost:8080/"
        },
        "id": "-7a-MjqZtW54",
        "outputId": "5ad799b6-bd1b-421c-ec4f-69377d5a29e7"
      },
      "execution_count": null,
      "outputs": [
        {
          "output_type": "execute_result",
          "data": {
            "text/plain": [
              "7680"
            ]
          },
          "metadata": {},
          "execution_count": 99
        }
      ]
    },
    {
      "cell_type": "markdown",
      "source": [
        "## 정답"
      ],
      "metadata": {
        "id": "v_TpKcRqVPpM"
      }
    },
    {
      "cell_type": "code",
      "source": [
        "data = input()\n",
        "\n",
        "result = int(data[0])\n",
        "\n",
        "for i in range(1, len(data)):\n",
        "  num = int(data[i])\n",
        "  if num <= 1 or result <= 1:\n",
        "    result += num\n",
        "  else:\n",
        "    result *= num\n",
        "\n",
        "print(result)"
      ],
      "metadata": {
        "colab": {
          "base_uri": "https://localhost:8080/"
        },
        "id": "3VzzANuPVRjV",
        "outputId": "69ec4af4-0d43-40bd-ca05-e093e7e60532"
      },
      "execution_count": null,
      "outputs": [
        {
          "output_type": "stream",
          "name": "stdout",
          "text": [
            "580468\n",
            "7680\n"
          ]
        }
      ]
    },
    {
      "cell_type": "markdown",
      "source": [
        "# 문제3 문자열뒤집기"
      ],
      "metadata": {
        "id": "VRVXAMq3tjpU"
      }
    },
    {
      "cell_type": "markdown",
      "source": [
        "## 내 답안 틀림"
      ],
      "metadata": {
        "id": "TGdSNlPIb0gE"
      }
    },
    {
      "cell_type": "code",
      "source": [
        "from collections import Counter\n",
        "\n",
        "def solution(S):\n",
        "  S2 = sorted(dict(Counter(S)))\n",
        "\n",
        "  if S2[1] == S2[0]:\n",
        "    return 0\n",
        "  else:\n",
        "    chg = S2[1]\n",
        "    chglist = [i for i, v in enumerate(S) if v == str(chg)]\n",
        "\n",
        "\n",
        "    cnt = 1\n",
        "    for i, v in enumerate(chglist[:-1]):\n",
        "      if chglist[i+1] - chglist[i] == 1:\n",
        "        continue\n",
        "      cnt += 1\n",
        "\n",
        "    return cnt"
      ],
      "metadata": {
        "id": "APWFyrS0tsQe"
      },
      "execution_count": null,
      "outputs": []
    },
    {
      "cell_type": "code",
      "source": [
        "solution(\"0000000010100101010111\")"
      ],
      "metadata": {
        "colab": {
          "base_uri": "https://localhost:8080/"
        },
        "id": "HlQ1QXUzyczh",
        "outputId": "584c5779-4d2d-40e0-f09a-92ed33da3c33"
      },
      "execution_count": null,
      "outputs": [
        {
          "output_type": "execute_result",
          "data": {
            "text/plain": [
              "6"
            ]
          },
          "metadata": {},
          "execution_count": 16
        }
      ]
    },
    {
      "cell_type": "markdown",
      "source": [
        "## 정답"
      ],
      "metadata": {
        "id": "CHyqA5MYb2PU"
      }
    },
    {
      "cell_type": "code",
      "source": [
        "data = input()\n",
        "count0 = 0\n",
        "count1 = 0\n",
        "\n",
        "if data[0] == '1':\n",
        "  count0 += 1\n",
        "else:\n",
        "  count1 += 1\n",
        "\n",
        "for i in range(len(data) - 1):\n",
        "  if data[i] != data[i + 1]:\n",
        "    if data[i + 1] == '1':\n",
        "      count0 += 1\n",
        "    else:\n",
        "      count1 += 1\n",
        "\n",
        "print(min(count0, count1))"
      ],
      "metadata": {
        "colab": {
          "base_uri": "https://localhost:8080/"
        },
        "id": "i8G6uTl9b4hF",
        "outputId": "f8d53e54-9199-4f26-a679-196a0732b61f"
      },
      "execution_count": null,
      "outputs": [
        {
          "output_type": "stream",
          "name": "stdout",
          "text": [
            "solution(\"0000000010100101010111\")\n",
            "6\n"
          ]
        }
      ]
    },
    {
      "cell_type": "markdown",
      "source": [
        "# 문제4 만들 수 없는 금액"
      ],
      "metadata": {
        "id": "miYolglB104m"
      }
    },
    {
      "cell_type": "code",
      "source": [
        "def solution(n, nlist):\n",
        "  nlist = nlist.split()\n",
        "  # nlist.sort\n",
        "\n",
        "  import itertools\n",
        "  pool = []\n",
        "  for i in range(1, n+1):\n",
        "    pool += list(itertools.combinations(nlist, i))\n",
        "  pool = set(map(eval, map('+'.join, pool)))\n",
        "\n",
        "  answer = 1\n",
        "  while answer in pool:\n",
        "    # print(pool)\n",
        "    answer += 1\n",
        "\n",
        "  return answer\n",
        "\n",
        "solution(5, \"3 2 1 1 9\")"
      ],
      "metadata": {
        "colab": {
          "base_uri": "https://localhost:8080/"
        },
        "id": "QkKuZ42HwvNv",
        "outputId": "fd7b221c-64bc-426f-f3ab-3f50e9017f4f"
      },
      "execution_count": null,
      "outputs": [
        {
          "output_type": "stream",
          "name": "stdout",
          "text": [
            "{1, 2, 3, 4, 5, 6, 7, 9, 10, 11, 12, 13, 14, 15, 16}\n",
            "{1, 2, 3, 4, 5, 6, 7, 9, 10, 11, 12, 13, 14, 15, 16}\n",
            "{1, 2, 3, 4, 5, 6, 7, 9, 10, 11, 12, 13, 14, 15, 16}\n",
            "{1, 2, 3, 4, 5, 6, 7, 9, 10, 11, 12, 13, 14, 15, 16}\n",
            "{1, 2, 3, 4, 5, 6, 7, 9, 10, 11, 12, 13, 14, 15, 16}\n",
            "{1, 2, 3, 4, 5, 6, 7, 9, 10, 11, 12, 13, 14, 15, 16}\n",
            "{1, 2, 3, 4, 5, 6, 7, 9, 10, 11, 12, 13, 14, 15, 16}\n"
          ]
        },
        {
          "output_type": "execute_result",
          "data": {
            "text/plain": [
              "8"
            ]
          },
          "metadata": {},
          "execution_count": 20
        }
      ]
    },
    {
      "cell_type": "markdown",
      "source": [
        "## 정답"
      ],
      "metadata": {
        "id": "1O9HS3kY1CCq"
      }
    },
    {
      "cell_type": "code",
      "source": [
        "data = list(map(int, input().split()))\n",
        "data.sort()\n",
        "\n",
        "target = 1\n",
        "for x in data:\n",
        "  print(target, x)\n",
        "  if target < x:\n",
        "    break\n",
        "  target += x\n",
        "\n",
        "print(target)"
      ],
      "metadata": {
        "colab": {
          "base_uri": "https://localhost:8080/"
        },
        "id": "9j4gVtkU1DUp",
        "outputId": "bb3adb1a-c3a4-4e2e-c939-ccc98432e53c"
      },
      "execution_count": null,
      "outputs": [
        {
          "output_type": "stream",
          "name": "stdout",
          "text": [
            "1 2 3 5\n",
            "1 1\n",
            "2 2\n",
            "4 3\n",
            "7 5\n",
            "12\n"
          ]
        }
      ]
    },
    {
      "cell_type": "markdown",
      "source": [
        "# 문제5 볼링공 고르기"
      ],
      "metadata": {
        "id": "2KmRQHc06P-f"
      }
    },
    {
      "cell_type": "code",
      "source": [
        "from itertools import combinations\n",
        "from collections import Counter\n",
        "\n",
        "def solution(nm, klist):\n",
        "  n, m = nm.split()\n",
        "  n = int(n)\n",
        "\n",
        "  full = list(combinations(range(n), 2))\n",
        "\n",
        "  klist = klist.split()\n",
        "  s = dict(Counter(klist))\n",
        "\n",
        "  minus = 0\n",
        "  for i in s:\n",
        "    if s[i] >= 2:\n",
        "      minus += len(list(combinations(range(s[i]), 2)))\n",
        "\n",
        "  return len(full) - minus\n",
        "\n",
        "solution(\"8 5\", \"1 5 4 3 2 4 5 2\")"
      ],
      "metadata": {
        "colab": {
          "base_uri": "https://localhost:8080/"
        },
        "id": "dsgodjPm6PW-",
        "outputId": "a1135a92-3d9f-4c22-8ff7-643669a5cacf"
      },
      "execution_count": null,
      "outputs": [
        {
          "output_type": "execute_result",
          "data": {
            "text/plain": [
              "25"
            ]
          },
          "metadata": {},
          "execution_count": 250
        }
      ]
    },
    {
      "cell_type": "markdown",
      "source": [
        "# 문제6 무지의 먹방 라이브"
      ],
      "metadata": {
        "id": "_ZS60_pgLbnC"
      }
    },
    {
      "cell_type": "markdown",
      "source": [
        "## 내 답안 (틀림)\n"
      ],
      "metadata": {
        "id": "jptVRJPeGe_F"
      }
    },
    {
      "cell_type": "code",
      "source": [],
      "metadata": {
        "id": "QUVjaxEVwNtm"
      },
      "execution_count": null,
      "outputs": []
    },
    {
      "cell_type": "code",
      "source": [
        "import copy\n",
        "def solution(food_times, k):\n",
        "  i = 0 # 시간(초)\n",
        "  l = len(food_times)\n",
        "  while i <= k:\n",
        "    old = copy.deepcopy(food_times)\n",
        "    j = i % l\n",
        "    for tmp in range(l):\n",
        "      jj = (j + tmp) % l # 먹어야할 음식 index\n",
        "      if food_times[jj] > 0:\n",
        "        food_times[jj] = food_times[jj] - 1\n",
        "        break\n",
        "    print(i, j, jj, food_times)\n",
        "    i += 1\n",
        "\n",
        "  return -1 if old == food_times else jj + 1\n",
        "\n",
        "# solution([3, 1, 2], 5)\n",
        "solution([3, 2, 2, 1, 2, 1, 3, 7, 2], 16)"
      ],
      "metadata": {
        "colab": {
          "base_uri": "https://localhost:8080/"
        },
        "id": "9GOEDNv1wo5V",
        "outputId": "ded9a786-6eaf-4bf4-e663-a316ec8d755c"
      },
      "execution_count": null,
      "outputs": [
        {
          "output_type": "stream",
          "name": "stdout",
          "text": [
            "0 0 0 [2, 2, 2, 1, 2, 1, 3, 7, 2]\n",
            "1 1 1 [2, 1, 2, 1, 2, 1, 3, 7, 2]\n",
            "2 2 2 [2, 1, 1, 1, 2, 1, 3, 7, 2]\n",
            "3 3 3 [2, 1, 1, 0, 2, 1, 3, 7, 2]\n",
            "4 4 4 [2, 1, 1, 0, 1, 1, 3, 7, 2]\n",
            "5 5 5 [2, 1, 1, 0, 1, 0, 3, 7, 2]\n",
            "6 6 6 [2, 1, 1, 0, 1, 0, 2, 7, 2]\n",
            "7 7 7 [2, 1, 1, 0, 1, 0, 2, 6, 2]\n",
            "8 8 8 [2, 1, 1, 0, 1, 0, 2, 6, 1]\n",
            "9 0 0 [1, 1, 1, 0, 1, 0, 2, 6, 1]\n",
            "10 1 1 [1, 0, 1, 0, 1, 0, 2, 6, 1]\n",
            "11 2 2 [1, 0, 0, 0, 1, 0, 2, 6, 1]\n",
            "12 3 4 [1, 0, 0, 0, 0, 0, 2, 6, 1]\n",
            "13 4 6 [1, 0, 0, 0, 0, 0, 1, 6, 1]\n",
            "14 5 6 [1, 0, 0, 0, 0, 0, 0, 6, 1]\n",
            "15 6 7 [1, 0, 0, 0, 0, 0, 0, 5, 1]\n",
            "16 7 7 [1, 0, 0, 0, 0, 0, 0, 4, 1]\n"
          ]
        },
        {
          "output_type": "execute_result",
          "data": {
            "text/plain": [
              "8"
            ]
          },
          "metadata": {},
          "execution_count": 26
        }
      ]
    },
    {
      "cell_type": "markdown",
      "source": [
        "## 정답"
      ],
      "metadata": {
        "id": "MPb_9hZEGdF6"
      }
    },
    {
      "cell_type": "code",
      "source": [
        "import heapq\n",
        "\n",
        "def solution(food_times, k):\n",
        "  if sum(food_times) <= k:\n",
        "    return -1\n",
        "\n",
        "  q = []\n",
        "  for i in range(len(food_times)):\n",
        "    heapq.heappush(q, (food_times[i], i + 1))\n",
        "\n",
        "  sum_value = 0\n",
        "  previous = 0\n",
        "  length = len(food_times)\n",
        "\n",
        "  while sum_value + ((q[0][0] - previous) + length) <= k:\n",
        "    now = heapq.heappop(q)[0]\n",
        "    sum_value += (now - previous) * length\n",
        "    length -= 1\n",
        "    previous = now\n",
        "\n",
        "  result = sorted(q, key = lambda x: x[1])\n",
        "  return result[(k - sum_value) % length][1]\n",
        "\n",
        "# solution([3, 1, 2], 5)\n",
        "solution([3, 2, 2, 1, 2, 1, 3, 7, 2], 16)"
      ],
      "metadata": {
        "colab": {
          "base_uri": "https://localhost:8080/"
        },
        "id": "8fiyJmOPFYi0",
        "outputId": "0d25eeef-028a-4fdf-cb46-1af9d141e6b8"
      },
      "execution_count": null,
      "outputs": [
        {
          "output_type": "execute_result",
          "data": {
            "text/plain": [
              "9"
            ]
          },
          "metadata": {},
          "execution_count": 27
        }
      ]
    },
    {
      "cell_type": "markdown",
      "source": [
        "# 문제\n",
        "세준이는 영어로만 이루어진 어떤 문서를 검색하는 함수를 만들려고 한다. 이 함수는 어떤 단어가 총 몇 번 등장하는지 세려고 한다. 그러나, 세준이의 함수는 중복되어 세는 것은 빼고 세야 한다. 예를 들어, 문서가 abababa이고, 그리고 찾으려는 단어가 ababa라면, 세준이의 이 함수는 이 단어를 0번부터 찾을 수 있고, 2번부터도 찾을 수 있다. 그러나 동시에 셀 수는 없다.\n",
        "\n",
        "세준이는 문서와 검색하려는 단어가 주어졌을 때, 그 단어가 최대 몇 번 중복되지 않게 등장하는지 구하는 프로그램을 작성하시오.\n",
        "\n",
        "## 입력\n",
        "첫째 줄에 문서가 주어진다. 문서의 길이는 최대 2500이다. 둘째 줄에 검색하고 싶은 단어가 주어진다. 이 길이는 최대 50이다. 문서와 단어는 알파벳 소문자와 공백으로 이루어져 있다.\n",
        "\n",
        "## 출력\n",
        "첫째 줄에 중복되지 않게 최대 몇 번 등장하는지 출력한다."
      ],
      "metadata": {
        "id": "2U_B3LCx06y4"
      }
    },
    {
      "cell_type": "code",
      "source": [
        "def solution(s = 'dabababadd', find = 'aba'):\n",
        "  f_len = len(find)\n",
        "  cnt = 0\n",
        "  while len(s) > f_len:\n",
        "    if find == s[:f_len]:\n",
        "      cnt += 1\n",
        "      s = s[f_len:]\n",
        "    else:\n",
        "      s = s[1:]\n",
        "\n",
        "  return cnt\n",
        "\n",
        "# solution(s = 'daaaaaaa', find = 'aa')\n",
        "solution()"
      ],
      "metadata": {
        "colab": {
          "base_uri": "https://localhost:8080/"
        },
        "id": "7oKqQgZ91Dmt",
        "outputId": "fb78cec7-ee2f-41f5-992d-0b41136cd38f"
      },
      "execution_count": null,
      "outputs": [
        {
          "output_type": "execute_result",
          "data": {
            "text/plain": [
              "2"
            ]
          },
          "metadata": {},
          "execution_count": 36
        }
      ]
    },
    {
      "cell_type": "code",
      "source": [
        "s = input()\n",
        "find = input()\n",
        "print(s, find)\n",
        "\n",
        "f_len = len(find)\n",
        "cnt = 0\n",
        "while len(s) >= f_len:\n",
        "  print(s)\n",
        "  if find == s[:f_len]:\n",
        "    cnt += 1\n",
        "    s = s[f_len:]\n",
        "  else:\n",
        "    s = s[1:]\n",
        "\n",
        "print(cnt)"
      ],
      "metadata": {
        "colab": {
          "base_uri": "https://localhost:8080/"
        },
        "id": "5OUFImXB9AOs",
        "outputId": "22218d0b-eef1-402f-a790-ad5f3e1d1823"
      },
      "execution_count": null,
      "outputs": [
        {
          "output_type": "stream",
          "name": "stdout",
          "text": [
            "dababababaad\n",
            "ad\n",
            "dababababaad ad\n",
            "dababababaad\n",
            "ababababaad\n",
            "babababaad\n",
            "abababaad\n",
            "bababaad\n",
            "ababaad\n",
            "babaad\n",
            "abaad\n",
            "baad\n",
            "aad\n",
            "0\n"
          ]
        }
      ]
    }
  ]
}