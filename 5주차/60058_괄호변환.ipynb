{
 "cells": [
  {
   "cell_type": "code",
   "execution_count": null,
   "metadata": {},
   "outputs": [],
   "source": [
    "from collections import deque\n",
    "\n",
    "def separate_u_v(p):  # 문자열 p를 u와 v로 분리\n",
    "    # u : 균형잡힌 괄호 문자열, v : 나머지\n",
    "    open_p, close_p = 0, 0\n",
    "    for i in range(len(p)):\n",
    "        if p[i] == '(':\n",
    "            open_p += 1\n",
    "        else:\n",
    "            close_p += 1\n",
    "        if open_p == close_p:\n",
    "            return p[:i + 1], p[i + 1:]  # u, v\n",
    "\n",
    "\n",
    "def check_balance(u):  # 문자열 u가 올바른 괄호 문자열인지 체크\n",
    "    stack = deque()\n",
    "    for i in u:\n",
    "        if i == '(':\n",
    "            stack.append(i)\n",
    "        else:\n",
    "            if not stack:\n",
    "                return False\n",
    "            stack.pop()\n",
    "    return True if not stack else False\n",
    "\n",
    "\n",
    "def solution(p):\n",
    "    if not p:  # 과정 1\n",
    "        return p\n",
    "\n",
    "    u, v = separate_u_v(p)  # 과정 2\n",
    "\n",
    "    if check_balance(u):  # 과정 3\n",
    "        return u + solution(v)  # 과정 3-1\n",
    "    else:  # 과정 4\n",
    "        answer = '('  # 과정 4-1\n",
    "        answer += solution(v)  # 과정 4-2\n",
    "        answer += ')'  # 과정 4-3\n",
    "\n",
    "        for pp in u[1:len(u) - 1]:  # 과정 4-4\n",
    "            if pp == '(':\n",
    "                answer += ')'\n",
    "            else:\n",
    "                answer += '('\n",
    "    return answer  # 과정 4-5"
   ]
  }
 ],
 "metadata": {
  "language_info": {
   "name": "python"
  },
  "orig_nbformat": 4
 },
 "nbformat": 4,
 "nbformat_minor": 2
}
