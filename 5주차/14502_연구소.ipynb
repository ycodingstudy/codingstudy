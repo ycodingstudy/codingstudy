{
 "cells": [
  {
   "cell_type": "markdown",
   "metadata": {},
   "source": [
    "벽을 3개 설치하는 모든 경우의 수를 다 계산해야한다.  \n",
    "-> 64C3 = 64 * 63 * 32 / (3 * 2) < (제한시간 2초 * 2천만 연산량) 이므로 모든 경우의 수를 고려하는 풀이 접근이 가능함\n",
    "\n"
   ]
  },
  {
   "cell_type": "markdown",
   "metadata": {},
   "source": [
    "DFS를 이용하여 풀어보자.  \n",
    "\n",
    "1. 바이러스 확산하는 함수\n",
    "2. 안전거리 영역 점수 세는 함수\n",
    "3. 벽 3개 설치하는 모든 경우의 수 계산  \n",
    "    3-1. 벽 3개를 설치했다면 바이러스를 퍼뜨리고, 각 경우의 수마다 안전 영역의 최댓값 계산\n",
    "4. dfs 실행한 후 결과값 출력\n"
   ]
  },
  {
   "cell_type": "code",
   "execution_count": 1,
   "metadata": {},
   "outputs": [],
   "source": [
    "n, m = map(int, input().split())"
   ]
  },
  {
   "cell_type": "code",
   "execution_count": 2,
   "metadata": {},
   "outputs": [],
   "source": [
    "# 초기 맵 리스트\n",
    "dt = []\n",
    "for _ in range(n):\n",
    "    dt.append(list(map(int, input().split())))\n",
    "\n",
    "# 벽을 설치한 뒤의 맵 리스트\n",
    "tmp = [[0] * m for _ in range(n)]"
   ]
  },
  {
   "cell_type": "code",
   "execution_count": null,
   "metadata": {},
   "outputs": [],
   "source": [
    "\n",
    "\n",
    "\n",
    "\n",
    "\n"
   ]
  }
 ],
 "metadata": {
  "kernelspec": {
   "display_name": "base",
   "language": "python",
   "name": "python3"
  },
  "language_info": {
   "codemirror_mode": {
    "name": "ipython",
    "version": 3
   },
   "file_extension": ".py",
   "mimetype": "text/x-python",
   "name": "python",
   "nbconvert_exporter": "python",
   "pygments_lexer": "ipython3",
   "version": "3.9.12"
  },
  "orig_nbformat": 4
 },
 "nbformat": 4,
 "nbformat_minor": 2
}
