{
 "cells": [
  {
   "cell_type": "code",
   "execution_count": null,
   "metadata": {},
   "outputs": [],
   "source": [
    "from sys import stdin\n",
    "from collections import deque\n",
    "\n",
    "n, m, v = map(int, stdin.readline().split())\n",
    "matrix = [[0] * (n+1) for _ in range(n+1)]\n",
    "\n",
    "for _ in range(m):\n",
    "    data = list(map(int, stdin.readline().split()))\n",
    "    matrix[data[0]][data[1]] = 1\n",
    "    matrix[data[1]][data[0]] = 1\n",
    "\n",
    "\n",
    "def dfs(start, visited):\n",
    "    visited += [start]\n",
    "    for i in range(len(matrix[start])):\n",
    "            if matrix[start][i] == 1 and i not in visited:\n",
    "                dfs(i, visited)\n",
    "    return visited\n",
    "\n",
    "def bfs(start):\n",
    "    visited += [start]\n",
    "    queue = deque([start])\n",
    "\n",
    "    while queue:\n",
    "         n = queue.popleft()\n",
    "         for i in range(len(matrix[start])):\n",
    "            if matrix[n][i] == 1 and i not in visited:\n",
    "                visited.append(i)\n",
    "            queue.append(i)\n",
    "    return visited\n",
    "\n",
    "print(*dfs(v, []))\n",
    "print(*bfs(v))"
   ]
  }
 ],
 "metadata": {
  "language_info": {
   "name": "python"
  },
  "orig_nbformat": 4
 },
 "nbformat": 4,
 "nbformat_minor": 2
}
