{
 "cells": [
  {
   "cell_type": "code",
   "execution_count": 16,
   "metadata": {},
   "outputs": [],
   "source": [
    "# 값 입력\n",
    "n, m, k, x = map(int, input().split())"
   ]
  },
  {
   "cell_type": "code",
   "execution_count": 17,
   "metadata": {},
   "outputs": [],
   "source": [
    "# 모든 도로 정보 입력\n",
    "graph = [[] for _ in range(n+1)]\n",
    "\n",
    "for _ in range(m):\n",
    "    a, b = map(int, input().split())\n",
    "    graph[a].append(b)"
   ]
  },
  {
   "cell_type": "code",
   "execution_count": 22,
   "metadata": {},
   "outputs": [
    {
     "name": "stdout",
     "output_type": "stream",
     "text": [
      "now: 1\n",
      "next_node 2\n",
      "move\n",
      "[-1, 0, 1, -1, -1]\n",
      "next_node 3\n",
      "move\n",
      "[-1, 0, 1, 1, -1]\n",
      "now: 2\n",
      "next_node 3\n",
      "[-1, 0, 1, 1, -1]\n",
      "next_node 4\n",
      "move\n",
      "[-1, 0, 1, 1, 2]\n",
      "now: 3\n",
      "now: 4\n"
     ]
    }
   ],
   "source": [
    "# 모든 도시에 대한 최단거리 초기화\n",
    "dist = [-1] * (n+1)\n",
    "dist[x] = 0 # 출발 도시까지의 거리는 0으로\n",
    "\n",
    "from collections import deque\n",
    "q = deque([x])\n",
    "\n",
    "while q:\n",
    "    now = q.popleft()\n",
    "    print('now:', now)\n",
    "    # 현재 도시에서 이동할 수 있는 모든 도시 확인\n",
    "    for next_node in graph[now]:\n",
    "        print('next_node', next_node)\n",
    "        \n",
    "        if dist[next_node] == -1:\n",
    "            print('move')\n",
    "            dist[next_node] = dist[now] + 1\n",
    "            q.append(next_node)\n",
    "        print(dist)\n",
    "\n",
    "# 최단 거리가 k인 모든 도시의 번호를 오름차순으로 출력\n",
    "check = False\n",
    "for i in range(1, n+1):\n",
    "    if dist[i] == k:\n",
    "        print(i)\n",
    "        check = True\n",
    "\n",
    "# 없으면 -1\n",
    "if check == False:\n",
    "    print(-1)"
   ]
  },
  {
   "cell_type": "code",
   "execution_count": null,
   "metadata": {},
   "outputs": [],
   "source": [
    "# n개의 도시\n",
    "# 도시 간에 총 m개의 단방향 도로\n",
    "# 도로 거리 = 1\n",
    "# X로 부터 출발하여 도달할 수 있는 모든 도시 중에서 최단 거리가 k인 모든 도시를 구하라.\n",
    "\n",
    "# 풀이방법\n",
    "# 처음 갈 때에만 거리 +1\n",
    "# 필요한것:\n",
    "# - 도시별로 연결된 도시 정보 (번호 빠른 순으로 한쪽만 입력)\n",
    "# - 거리를 입력할 리스트\n",
    "# - bfs로 현재 방문해있는 도시를 담을 큐"
   ]
  },
  {
   "cell_type": "code",
   "execution_count": 30,
   "metadata": {},
   "outputs": [],
   "source": [
    "import sys\n",
    "input = sys.stdin.readline\n",
    "\n",
    "n, m, k, x = map(int, input().split())\n",
    "\n",
    "graph = [[] for _ in range(n+1)]\n",
    "for _ in range(m):\n",
    "    a, b = map(int, input().split())\n",
    "    graph[a].append(b)\n",
    "\n",
    "dist = [-1] * (n+1)\n",
    "dist[x] = 0\n",
    "\n",
    "from collections import deque\n",
    "q = deque([x])\n",
    "\n",
    "while q:\n",
    "    now = q.popleft()\n",
    "    for nextnode in graph[now]:\n",
    "        if dist[nextnode] == -1:\n",
    "            dist[nextnode] = dist[now] + 1\n",
    "            q.append(nextnode)\n",
    "\n",
    "check = False\n",
    "for i in range(1, n+1):\n",
    "    if dist[i] == k:\n",
    "        print(i)\n",
    "        check = True\n",
    "\n",
    "if check == False:\n",
    "    print(-1)"
   ]
  }
 ],
 "metadata": {
  "kernelspec": {
   "display_name": "base",
   "language": "python",
   "name": "python3"
  },
  "language_info": {
   "codemirror_mode": {
    "name": "ipython",
    "version": 3
   },
   "file_extension": ".py",
   "mimetype": "text/x-python",
   "name": "python",
   "nbconvert_exporter": "python",
   "pygments_lexer": "ipython3",
   "version": "3.9.12"
  },
  "orig_nbformat": 4
 },
 "nbformat": 4,
 "nbformat_minor": 2
}
