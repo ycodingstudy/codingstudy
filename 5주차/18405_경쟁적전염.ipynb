{
 "cells": [
  {
   "cell_type": "code",
   "execution_count": null,
   "metadata": {},
   "outputs": [],
   "source": [
    "from collections import deque\n",
    "\n",
    "# 시험관의 크기와 바이러스 개수를 입력받기\n",
    "n, k = map(int, input().split())\n",
    "\n",
    "graph = []\n",
    "data = []\n",
    "\n",
    "for i in range(n):\n",
    "    graph.append(list(map(int, input().split())))\n",
    "    for j in range(n):\n",
    "        if graph[i][j] != 0:\n",
    "            data.append((graph[i][j], 0, i, j))\n",
    "\n",
    "data.sort()\n",
    "q = deque(data)\n",
    "\n",
    "target_s, target_x, target_y = map(int, input().split())\n",
    "\n",
    "s = 0\n",
    "\n",
    "dx = [-1, 0, 1, 0]\n",
    "dy = [0, 1, 0, -1]\n",
    "\n",
    "while q:\n",
    "    virus, cnt, x, y = q.popleft()\n",
    "    if cnt == target_s:\n",
    "        break\n",
    "\n",
    "    for i in range(4):\n",
    "        nx = x + dx[i]\n",
    "        ny = y + dy[i]\n",
    "\n",
    "        if 0 <= nx < n and 0 <= y < n:\n",
    "            if graph[nx][ny] == 0:\n",
    "                graph[nx][ny] =virus\n",
    "                q.append((virus, cnt+1, nx, ny))\n",
    "\n",
    "print(graph[target_x - 1][target_y - 1])"
   ]
  }
 ],
 "metadata": {
  "language_info": {
   "name": "python"
  },
  "orig_nbformat": 4
 },
 "nbformat": 4,
 "nbformat_minor": 2
}
