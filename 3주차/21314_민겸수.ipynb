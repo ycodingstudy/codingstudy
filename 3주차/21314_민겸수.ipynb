{
 "cells": [
  {
   "cell_type": "markdown",
   "metadata": {},
   "source": [
    "최대랑 최소 규칙을 찾아보자.  \n",
    "문자열을 쪼갤 때 k 는 한개밖에 있을 수 없다. -> k 로 쪼갠다.  \n",
    "가장 큰 수는 그대로 이어붙이기  \n",
    "가장 작은 수는 m으로 또 쪼개기  \n",
    "단, m m 1 1 보다는 mm 10이 더 작다. -> 최댓값 최솟값에 따라 달리해야한다."
   ]
  },
  {
   "cell_type": "markdown",
   "metadata": {},
   "source": [
    "# 풀이"
   ]
  },
  {
   "cell_type": "code",
   "execution_count": 7,
   "metadata": {},
   "outputs": [
    {
     "name": "stdout",
     "output_type": "stream",
     "text": [
      "555\n",
      "555\n"
     ]
    }
   ],
   "source": [
    "s = input()\n",
    "maxresult = ''\n",
    "old = ''\n",
    "minresult = ''\n",
    "for i in s:\n",
    "    if i == 'K':\n",
    "        maxresult += str(5 * (10 ** len(old)))\n",
    "        if old != '':\n",
    "            minresult += str(10 ** (len(old) - 1))\n",
    "        minresult += str(5)\n",
    "        old = ''\n",
    "    else:\n",
    "        old += i\n",
    "\n",
    "if old != '':\n",
    "    maxresult += str(1) * len(old)\n",
    "    minresult += str(10 ** (len(old) - 1))\n",
    "\n",
    "print(maxresult, minresult, sep='\\n')"
   ]
  }
 ],
 "metadata": {
  "kernelspec": {
   "display_name": "bigcon_env",
   "language": "python",
   "name": "python3"
  },
  "language_info": {
   "codemirror_mode": {
    "name": "ipython",
    "version": 3
   },
   "file_extension": ".py",
   "mimetype": "text/x-python",
   "name": "python",
   "nbconvert_exporter": "python",
   "pygments_lexer": "ipython3",
   "version": "3.10.6"
  },
  "orig_nbformat": 4
 },
 "nbformat": 4,
 "nbformat_minor": 2
}
