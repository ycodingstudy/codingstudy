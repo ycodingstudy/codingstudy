{
 "cells": [
  {
   "cell_type": "markdown",
   "metadata": {},
   "source": [
    "# 백준 1343 폴리오미노"
   ]
  },
  {
   "cell_type": "markdown",
   "metadata": {},
   "source": [
    "## 풀이\n",
    "### idea\n",
    "대체순서: . > AAAA > BB  \n",
    "단, 연속된 X 개수가 홀수이면 break하고 result = -1"
   ]
  },
  {
   "cell_type": "code",
   "execution_count": 7,
   "metadata": {},
   "outputs": [],
   "source": [
    "# s = \"XX.XXXXXXXXXX..XXXXXXXX...XXXXXX\"\n",
    "# s = \"XXXX....XXX.....XX\""
   ]
  },
  {
   "cell_type": "code",
   "execution_count": 6,
   "metadata": {},
   "outputs": [
    {
     "name": "stdout",
     "output_type": "stream",
     "text": [
      "XX.XXXXXXXXXX..XXXXXXXX...XXXXXX \n",
      ".XXXXXXXXXX..XXXXXXXX...XXXXXX BB\n",
      "XXXXXXXXXX..XXXXXXXX...XXXXXX BB.\n",
      "XXXXXX..XXXXXXXX...XXXXXX BB.AAAA\n",
      "XX..XXXXXXXX...XXXXXX BB.AAAAAAAA\n",
      "..XXXXXXXX...XXXXXX BB.AAAAAAAABB\n",
      ".XXXXXXXX...XXXXXX BB.AAAAAAAABB.\n",
      "XXXXXXXX...XXXXXX BB.AAAAAAAABB..\n",
      "XXXX...XXXXXX BB.AAAAAAAABB..AAAA\n",
      "...XXXXXX BB.AAAAAAAABB..AAAAAAAA\n",
      "..XXXXXX BB.AAAAAAAABB..AAAAAAAA.\n",
      ".XXXXXX BB.AAAAAAAABB..AAAAAAAA..\n",
      "XXXXXX BB.AAAAAAAABB..AAAAAAAA...\n",
      "XX BB.AAAAAAAABB..AAAAAAAA...AAAA\n",
      "BB.AAAAAAAABB..AAAAAAAA...AAAABB\n"
     ]
    }
   ],
   "source": [
    "s = input()\n",
    "result = ''\n",
    "while True:    \n",
    "    if s[0] == \".\":\n",
    "        s = s[1:]\n",
    "        result += \".\"\n",
    "    elif s[:4] == \"XXXX\":\n",
    "        s = s[4:]\n",
    "        result += \"AAAA\"\n",
    "    elif s[:3] == \"XXX\":\n",
    "        result = -1\n",
    "        break\n",
    "    elif s[:2] == \"XX\":\n",
    "        result += \"BB\"\n",
    "        s = s[2:]\n",
    "    else:\n",
    "        result = -1\n",
    "        break\n",
    "    if len(s) == 0:\n",
    "        break\n",
    "\n",
    "print(result)\n",
    "    "
   ]
  },
  {
   "cell_type": "markdown",
   "metadata": {},
   "source": [
    "## 다른 사람 풀이\n",
    "https://www.acmicpc.net/source/54911938\n",
    "\n",
    "### idea\n",
    "* step1  \n",
    "입력값을 복제하여 XXXX는 AAAA로 대체한 후, XX는 BB로 대체  \n",
    ". 은 그대로 유지\n",
    "\n",
    "* step2  \n",
    "그 후 X가 포함되어있으면 -1 출력"
   ]
  },
  {
   "cell_type": "code",
   "execution_count": null,
   "metadata": {},
   "outputs": [],
   "source": [
    "b = input()\n",
    "\n",
    "pan = ['AAAA','BB']\n",
    "board = b.replace('XXXX', pan[0])\n",
    "board = board.replace('XX', pan[1])\n",
    "\n",
    "if 'X' in board:\n",
    "    print(-1)\n",
    "else:\n",
    "    print(board)"
   ]
  }
 ],
 "metadata": {
  "kernelspec": {
   "display_name": "base",
   "language": "python",
   "name": "python3"
  },
  "language_info": {
   "codemirror_mode": {
    "name": "ipython",
    "version": 3
   },
   "file_extension": ".py",
   "mimetype": "text/x-python",
   "name": "python",
   "nbconvert_exporter": "python",
   "pygments_lexer": "ipython3",
   "version": "3.9.12"
  },
  "orig_nbformat": 4
 },
 "nbformat": 4,
 "nbformat_minor": 2
}
