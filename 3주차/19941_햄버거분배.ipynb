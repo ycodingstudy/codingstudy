{
 "cells": [
  {
   "cell_type": "markdown",
   "metadata": {},
   "source": [
    "# 문제\n",
    "기다란 벤치 모양의 식탁에 사람들과 햄버거가 아래와 같이 단위 간격으로 놓여 있다. 사람들은 자신의 위치에서 거리가 $K$ 이하인 햄버거를 먹을 수 있다.  \n",
    "\n",
    "햄버거\t사람\t햄버거\t사람\t햄버거\t사람\t햄버거\t햄버거\t사람\t사람\t햄버거\t사람  \n",
    "1\t2\t3\t4\t5\t6\t7\t8\t9\t10\t11\t12    \n",
    "\n",
    "위의 상태에서 $K = 1$인 경우를 생각해보자. 이 경우 모든 사람은 자신과 인접한 햄버거만 먹을 수 있다. 10번의 위치에 있는 사람은 11번 위치에 있는 햄버거를 먹을 수 있다. 이 경우 다음과 같이 최대 5명의 사람이 햄버거를 먹을 수 있다.  \n",
    "\n",
    "* 2번 위치에 있는 사람: 1번 위치에 있는 햄버거  \n",
    "* 4번 위치에 있는 사람: 5번 위치에 있는 햄버거  \n",
    "* 6번 위치에 있는 사람: 7번 위치에 있는 햄버거  \n",
    "* 9번 위치에 있는 사람: 8번 위치에 있는 햄버거  \n",
    "* 10번 위치에 있는 사람: 11번 위치에 있는 햄버거  \n",
    "* 12번 위치에 있는 사람: 먹을 수 있는 햄버거가 없음  \n",
    "   \n",
    "$K = 2$인 경우에는 6명 모두가 햄버거를 먹을 수 있다.  \n",
    "\n",
    "* 2번 위치에 있는 사람: 1번 위치에 있는 햄버거  \n",
    "* 4번 위치에 있는 사람: 3번 위치에 있는 햄버거  \n",
    "* 6번 위치에 있는 사람: 5번 위치에 있는 햄버거  \n",
    "* 9번 위치에 있는 사람: 7번 위치에 있는 햄버거  \n",
    "* 10번 위치에 있는 사람: 8번 위치에 있는 햄버거  \n",
    "* 12번 위치에 있는 사람: 11번 위치에 있는 햄버거   \n",
    "\n",
    "식탁의 길이 $N$, 햄버거를 선택할 수 있는 거리 $K$, 사람과 햄버거의 위치가 주어졌을 때, 햄버거를 먹을 수 있는 사람의 최대 수를 구하는 프로그램을 작성하시오.\n",
    "\n",
    "## 입력\n",
    "첫 줄에 두 정수 $N$과 $K$가 있다. 그리고 다음 줄에 사람과 햄버거의 위치가 문자 P(사람)와 H(햄버거)로 이루어지는 길이 \n",
    "$N$인 문자열로 주어진다.\n",
    "\n",
    "## 출력\n",
    "첫 줄에 햄버거를 먹을 수 있는 최대 사람 수를 나타낸다.  \n",
    "\n",
    "## 제한\n",
    "$1 \\le N \\le 20,000$  \n",
    "$1 \\le K \\le 10$ \n",
    "\n",
    "## 예제\n",
    "입력 1   \n",
    "20 1  \n",
    "HHPHPPHHPPHPPPHPHPHP  \n",
    "예제 출력 1   \n",
    "8  \n",
    "예제 입력 2   \n",
    "20 2  \n",
    "HHHHHPPPPPHPHPHPHHHP  \n",
    "예제 출력 2   \n",
    "7"
   ]
  },
  {
   "cell_type": "markdown",
   "metadata": {},
   "source": [
    "# 풀이\n",
    "처음에 런타임에러 발생했는데.. 알고보니  n, k가 한 줄에 입력되는 걸 간과함,,,, 큐ㅠ"
   ]
  },
  {
   "cell_type": "code",
   "execution_count": 74,
   "metadata": {},
   "outputs": [
    {
     "name": "stdout",
     "output_type": "stream",
     "text": [
      "7\n"
     ]
    }
   ],
   "source": [
    "n, k = map(int, input().split())\n",
    "ph_list = list(input())\n",
    "\n",
    "answer = 0\n",
    "for i in range(n):\n",
    "    if ph_list[i] == 'P':\n",
    "        for j in range(i - k, i + k + 1):\n",
    "            if j < 0 or j > n - 1:\n",
    "                continue\n",
    "            if ph_list[j] == 'H':\n",
    "                answer += 1\n",
    "                ph_list[j] = 'D'\n",
    "                break\n",
    "\n",
    "print(answer)"
   ]
  }
 ],
 "metadata": {
  "kernelspec": {
   "display_name": "bigcon_env",
   "language": "python",
   "name": "python3"
  },
  "language_info": {
   "codemirror_mode": {
    "name": "ipython",
    "version": 3
   },
   "file_extension": ".py",
   "mimetype": "text/x-python",
   "name": "python",
   "nbconvert_exporter": "python",
   "pygments_lexer": "ipython3",
   "version": "3.10.6"
  },
  "orig_nbformat": 4
 },
 "nbformat": 4,
 "nbformat_minor": 2
}
