{
 "cells": [
  {
   "cell_type": "markdown",
   "metadata": {},
   "source": [
    "# 백준 20115 에너지드링크\n",
    "## 문제\n",
    "페인은 에너지 드링크를 좋아하는 회사원이다. 에너지 드링크는 카페인, 아르기닌, 타우린, 나이아신 등의 성분이 들어있어 피로 회복에 도움을 주는 에너지 보충 음료수이다.\n",
    "\n",
    "야근을 마치고 한밤중에 퇴근하니 벌써 새벽 1시. 하지만 주말은 아직 멀었고, 다음 날에도 정시에 출근해야 하는 페인은 오늘도 에너지 드링크를 찾는다.\n",
    "\n",
    "반복되는 야근에 지친 나머지, 평소보다 더 많은 에너지와 피로 회복이 필요했던 페인은 집에 있던 에너지 드링크들을 한 데 합쳐서, 하나의 에너지 드링크로 만들어 한번에 마시려 한다.\n",
    "\n",
    "페인이 에너지 드링크들을 합치는 과정은 다음과 같다.\n",
    "\n",
    "임의의 서로 다른 두 에너지 드링크를 고른다.\n",
    "한쪽 에너지 드링크를 다른 쪽 에너지 드링크에 모두 붓는다. 단, 페인은 야근 후유증으로 인해 손이 떨려, 붓는 과정에서 원래 양의 절반을 바닥에 흘리게 된다.\n",
    "다 붓고 남은 빈 에너지 드링크는 버린다.\n",
    "1~3 과정을 에너지 드링크가 하나만 남을 때까지 반복한다.\n",
    "예를 들어, 두 에너지 드링크 a, b가 있고, 양이 각각 xa, xb라 할 때, 다음 둘 중 하나의 선택을 할 수 있다.\n",
    "\n",
    "a의 양을 xa + (xb / 2)로 만들고, b를 버리기  \n",
    "b의 양을 xb + (xa / 2)로 만들고, a를 버리기  \n",
    "페인은 합쳐진 에너지 드링크의 양을 최대로 하려 한다. 불쌍한 페인을 도와주자!  \n",
    "\n",
    "### 입력\n",
    "첫째 줄에 페인이 가지고 있는 에너지 드링크의 수 N이 주어진다. (2 ≤ N ≤ 105)\n",
    "\n",
    "둘째 줄에 각 에너지 드링크의 양이 공백으로 구분되어 주어진다. i번째 정수 xi (1 ≤ xi ≤ 109)는 에너지 드링크 i의 양이 xi임을 의미한다.\n",
    "\n",
    "### 출력\n",
    "첫째 줄에 페인이 최대로 만들 수 있는 에너지 드링크의 양을 출력한다.\n",
    "\n",
    "절대/상대 오차는 10-5까지 허용한다."
   ]
  },
  {
   "cell_type": "markdown",
   "metadata": {},
   "source": [
    "### 예제\n",
    "* 예제 입력 1   \n",
    "5  \n",
    "3 2 10 9 6\n",
    "* 예제 출력 1   \n",
    "20  \n",
    "---\n",
    "* 예제 입력 2   \n",
    "10  \n",
    "100 9 77 65 39 27 45 1 80 495\n",
    "* 예제 출력 2   \n",
    "716.5"
   ]
  },
  {
   "cell_type": "markdown",
   "metadata": {},
   "source": [
    "## 풀이\n",
    "* idea  \n",
    "합쳐진 에너지 드링크의 양이 최대가 되어야하므로  \n",
    "내림차순으로 정렬 후, 큰 값부터 두개를 뽑아서 둘 중 max값을 기준으로 다른 하나의 절반을 합치는 과정을 계속 반복하자  \n",
    "-> 근데 어차피 앞의 값이 더 클테니, 첫 요소를 제외하고 나머지는 2로 나눠서 더해주자"
   ]
  },
  {
   "cell_type": "code",
   "execution_count": 7,
   "metadata": {},
   "outputs": [
    {
     "data": {
      "text/plain": [
       "20.0"
      ]
     },
     "execution_count": 7,
     "metadata": {},
     "output_type": "execute_result"
    }
   ],
   "source": [
    "n = input()\n",
    "xi_list = list(map(int, input().split()))\n",
    "xi_list.sort(reverse = True)\n",
    "print(xi_list[0] + sum(map(lambda x: x / 2, xi_list[1:])))"
   ]
  }
 ],
 "metadata": {
  "kernelspec": {
   "display_name": "base",
   "language": "python",
   "name": "python3"
  },
  "language_info": {
   "codemirror_mode": {
    "name": "ipython",
    "version": 3
   },
   "file_extension": ".py",
   "mimetype": "text/x-python",
   "name": "python",
   "nbconvert_exporter": "python",
   "pygments_lexer": "ipython3",
   "version": "3.9.12"
  },
  "orig_nbformat": 4
 },
 "nbformat": 4,
 "nbformat_minor": 2
}
