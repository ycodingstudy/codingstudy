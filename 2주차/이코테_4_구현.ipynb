{
  "cells": [
    {
      "cell_type": "markdown",
      "metadata": {
        "id": "GtyvaqMToI8J"
      },
      "source": [
        "# 기본문제"
      ]
    },
    {
      "cell_type": "markdown",
      "metadata": {
        "id": "QQjH1wijjVH_"
      },
      "source": [
        "## 예제 4-1 상하좌우  \n",
        "* 문제 설명  \n",
        "여행가 A는 N x N 크기의 정사각형 공간 위에 서 있따. 이 공간은 1 x 1 크기의 정사각형으로 나누어져 있다. 가장 왼쪽 위 좌표는 (1, 1)이며 가장 오른쪽 아래 좌표는 (N, N)에 해당한다. 여행가 A는 상, 하, 좌, 우 방향으로 이동할 수 있으며, 시작좌표는 항상 (1, 1)이다. 우리 앞에는 여행가 A가 이동할 계획이 적인 계획서가 놓여있다.  \n",
        "L, R, U, D 주어짐\n",
        "\n",
        "* 입력 조건  \n",
        "첫째 줄에 공간의 크기를 나타내는 N이 주어진다. 1 <= N <= 100  \n",
        "둘째 줄에 여행가 A가 이동할 계획서 내용이 주어진다. 1 <= 이동횟수 <= 100\n",
        "\n",
        "* 출력 조건  \n",
        "첫째 줄에 여행가 A가 최종적으로 도착할 지점의 좌표 (X, Y)를 공백으로 구분하여 출력"
      ]
    },
    {
      "cell_type": "code",
      "execution_count": null,
      "metadata": {
        "colab": {
          "base_uri": "https://localhost:8080/"
        },
        "id": "atglfEKbjChC",
        "outputId": "31e35cfa-6515-43fb-f106-b9dbb04938cf"
      },
      "outputs": [
        {
          "name": "stdout",
          "output_type": "stream",
          "text": [
            "5\n",
            "R R R U D D\n"
          ]
        }
      ],
      "source": [
        "n = int(input())\n",
        "direction = input().split()"
      ]
    },
    {
      "cell_type": "code",
      "execution_count": null,
      "metadata": {
        "colab": {
          "base_uri": "https://localhost:8080/"
        },
        "id": "qRZkrt-TkrnP",
        "outputId": "9c62aa01-e724-47e1-f57b-fe9e4f510960"
      },
      "outputs": [
        {
          "name": "stdout",
          "output_type": "stream",
          "text": [
            "3 4\n"
          ]
        }
      ],
      "source": [
        "# 방향마다 더해줄 값을 만들어서 딕셔너리에 저장해두기\n",
        "LRUD = {'L':(0, -1), 'R':(0, 1), 'U':(-1, 0), 'D':(1, 0)}\n",
        "\n",
        "# 최초의 A의 위치\n",
        "A = [1, 1]\n",
        "\n",
        "# 주어진 방향지시표에 따라 범위를 벗어나지 않는다면 지시를 따르기\n",
        "for i in direction:\n",
        "  if 0 < A[0] + LRUD[i][0] <= n:\n",
        "    A[0] += LRUD[i][0]\n",
        "  if 0 < A[1] + LRUD[i][1] <= n:\n",
        "    A[1] += LRUD[i][1]\n",
        "\n",
        "print(A[0], A[1])"
      ]
    },
    {
      "cell_type": "markdown",
      "metadata": {
        "id": "nEJ5laAsC9qO"
      },
      "source": [
        "## 예제2 시각"
      ]
    },
    {
      "cell_type": "code",
      "execution_count": null,
      "metadata": {
        "colab": {
          "base_uri": "https://localhost:8080/"
        },
        "id": "SSuBMVJhC_Kb",
        "outputId": "8afa9475-26d5-4d1b-df7c-b83f316f1446"
      },
      "outputs": [
        {
          "name": "stdout",
          "output_type": "stream",
          "text": [
            "23\n"
          ]
        }
      ],
      "source": [
        "n = int(input())"
      ]
    },
    {
      "cell_type": "code",
      "execution_count": null,
      "metadata": {
        "colab": {
          "base_uri": "https://localhost:8080/"
        },
        "id": "XLVnXa08DixN",
        "outputId": "d90a8405-c381-4b34-a55f-8166287d8bbf"
      },
      "outputs": [
        {
          "name": "stdout",
          "output_type": "stream",
          "text": [
            "43875\n"
          ]
        }
      ],
      "source": [
        "# sol1\n",
        "# 00~60 중 3이 포함되는 경우: 03, 13, 23, 30~39, 43, 53 -> 15개\n",
        "if n >= 23:\n",
        "  answer = (n - 2) * 60 * 15 * 2 - (n - 2) * 15 * 15 + 60 * 60 * 3\n",
        "elif n >= 13:\n",
        "  answer = (n - 1) * 60 * 15 * 2 - (n - 1) * 15 * 15 + 60 * 60 * 2\n",
        "elif n >= 3:\n",
        "  answer = (n) * 60 * 15 * 2 - (n) * 15 * 15 + 60 * 60\n",
        "else:\n",
        "  answer = (n + 1) * 60 * 15 * 2 - (n + 1) * 15 * 15\n",
        "\n",
        "print(answer)"
      ]
    },
    {
      "cell_type": "code",
      "execution_count": null,
      "metadata": {
        "colab": {
          "base_uri": "https://localhost:8080/"
        },
        "id": "agrFOjPsD170",
        "outputId": "fc8f2f5e-0900-45b8-ec82-dab5d90c2d0d"
      },
      "outputs": [
        {
          "name": "stdout",
          "output_type": "stream",
          "text": [
            "43875\n"
          ]
        }
      ],
      "source": [
        "# sol2\n",
        "# 단순하게 카운트하는 방법\n",
        "answer = 0\n",
        "for h in range(n + 1):\n",
        "  for m in range(60):\n",
        "    for s in range(60):\n",
        "      if '3' in str(h) or '3' in str(m) or '3' in str(s): # 시, 분, 초 주에 '3'이 있으면 +1\n",
        "        answer += 1\n",
        "\n",
        "print(answer)"
      ]
    },
    {
      "cell_type": "markdown",
      "metadata": {
        "id": "04PQYVy9GBWJ"
      },
      "source": [
        "## 실전문제: 왕실의 나이트\n",
        "p.117"
      ]
    },
    {
      "cell_type": "code",
      "execution_count": null,
      "metadata": {
        "colab": {
          "base_uri": "https://localhost:8080/"
        },
        "id": "UOnsh5OMGuGa",
        "outputId": "5574ccae-5cea-4aeb-d643-8c600a57b3f0"
      },
      "outputs": [
        {
          "name": "stdout",
          "output_type": "stream",
          "text": [
            "c1\n"
          ]
        }
      ],
      "source": [
        "xy = list(input())"
      ]
    },
    {
      "cell_type": "code",
      "execution_count": null,
      "metadata": {
        "colab": {
          "base_uri": "https://localhost:8080/"
        },
        "id": "SETspK0GISB6",
        "outputId": "e8a448c0-6ff2-4a5f-f17c-c8cf82bbcb6e"
      },
      "outputs": [
        {
          "name": "stdout",
          "output_type": "stream",
          "text": [
            "4\n"
          ]
        }
      ],
      "source": [
        "# 열번호를 숫자로 바꾸기\n",
        "mapp = {'a': 1, 'b': 2, 'c': 3, 'd': 4, 'e': 5, 'f': 6, 'g': 7, 'h': 8}\n",
        "x = mapp[xy[0]]\n",
        "y = int(xy[1])\n",
        "\n",
        "answer = 0\n",
        "\n",
        "if x - 2 > 0:\n",
        "  if y - 1 > 0:\n",
        "    answer += 1\n",
        "  if y + 1 <= 8:\n",
        "    answer += 1\n",
        "\n",
        "if x + 2 <= 8:\n",
        "  if y - 1 > 0:\n",
        "    answer += 1\n",
        "  if y + 1 <= 8:\n",
        "    answer += 1\n",
        "\n",
        "\n",
        "if y - 2 > 0:\n",
        "  if x - 1 > 0:\n",
        "    answer += 1\n",
        "  if x + 1 <= 8:\n",
        "    answer += 1\n",
        "\n",
        "if y + 2 <= 8:\n",
        "  if x - 1 > 0:\n",
        "    answer += 1\n",
        "  if x + 1 <= 8:\n",
        "    answer += 1\n",
        "\n",
        "print(answer)"
      ]
    },
    {
      "cell_type": "markdown",
      "metadata": {
        "id": "8AgTUgmML2pS"
      },
      "source": [
        "## 실전문제: 게임 개발"
      ]
    },
    {
      "cell_type": "code",
      "execution_count": null,
      "metadata": {
        "colab": {
          "base_uri": "https://localhost:8080/"
        },
        "id": "p3rzy_3ZPxGW",
        "outputId": "2adc0d0b-3599-4e80-f3dd-5a84c66ef2ff"
      },
      "outputs": [
        {
          "name": "stdout",
          "output_type": "stream",
          "text": [
            "4 4\n",
            "1 1 0\n"
          ]
        }
      ],
      "source": [
        "n, m = map(int, input().split())\n",
        "x, y, d = map(int, input().split())"
      ]
    },
    {
      "cell_type": "code",
      "execution_count": null,
      "metadata": {
        "id": "ZWMHhUR9iY89"
      },
      "outputs": [],
      "source": [
        "n, m = 4, 4\n",
        "x, y, d = 1, 1, 0"
      ]
    },
    {
      "cell_type": "code",
      "execution_count": null,
      "metadata": {
        "colab": {
          "base_uri": "https://localhost:8080/"
        },
        "id": "OHs_2SBCRb9-",
        "outputId": "f4a87dc3-6405-4c52-8a83-ebeb28fb05de"
      },
      "outputs": [
        {
          "name": "stdout",
          "output_type": "stream",
          "text": [
            "1 1 1 1\n",
            "1 0 0 1\n",
            "1 1 0 1\n",
            "1 1 1 1\n"
          ]
        }
      ],
      "source": [
        "array = []\n",
        "for i in range(n):\n",
        "  array.append(list(map(int, input().split())))"
      ]
    },
    {
      "cell_type": "code",
      "execution_count": null,
      "metadata": {
        "id": "YFwb6j8oTf8a"
      },
      "outputs": [],
      "source": [
        "already = [[0 for _ in range(n)] for _ in range(m)]\n",
        "already[x][y] = 1"
      ]
    },
    {
      "cell_type": "code",
      "execution_count": null,
      "metadata": {
        "colab": {
          "base_uri": "https://localhost:8080/"
        },
        "id": "cLkTY1Y3QiH1",
        "outputId": "0d9c0cb7-d325-4c17-f43f-8886eda3a3e4"
      },
      "outputs": [
        {
          "name": "stdout",
          "output_type": "stream",
          "text": [
            "1 1\n",
            "1 1\n",
            "1 1\n",
            "1 2\n",
            "1 2\n",
            "1 2\n",
            "2 2\n",
            "2 2\n",
            "2 2\n",
            "2 2\n",
            "1 2\n",
            "1 2\n",
            "1 2\n",
            "1 2\n",
            "3\n"
          ]
        }
      ],
      "source": [
        "dict = {0: (0, -1), 1: (1, 0), 2: (0, 1), 3: (-1, 0)}\n",
        "\n",
        "cnt = 0\n",
        "answer = 1\n",
        "while True:\n",
        "  print(x, y)\n",
        "  d -= 1\n",
        "  if d == -1:\n",
        "    d = 3\n",
        "\n",
        "  nx = x + dict[d][1]\n",
        "  ny = y + dict[d][0]\n",
        "  if already[nx][ny] == 0 and array[nx][ny] == 0:\n",
        "    x = nx\n",
        "    y = ny\n",
        "    answer += 1\n",
        "    already[nx][ny] = 1\n",
        "    cnt = 0\n",
        "    continue\n",
        "  else:\n",
        "    cnt += 1\n",
        "\n",
        "  if cnt == 4:\n",
        "    nx = x - dict[d][1]\n",
        "    ny = y - dict[d][0]\n",
        "    if array[nx][ny] == 1:\n",
        "      break\n",
        "    else:\n",
        "      x = nx\n",
        "      y = ny\n",
        "    cnt = 0\n",
        "\n",
        "print(answer)"
      ]
    },
    {
      "cell_type": "markdown",
      "metadata": {
        "id": "WI9s0G-xn4zp"
      },
      "source": [
        "# 기출문제"
      ]
    },
    {
      "cell_type": "markdown",
      "metadata": {
        "id": "Y6BltbnvoSdF"
      },
      "source": [
        "## Q7. 럭키스트레이트"
      ]
    },
    {
      "cell_type": "code",
      "execution_count": null,
      "metadata": {
        "colab": {
          "base_uri": "https://localhost:8080/"
        },
        "id": "swhjg_I2s5Mb",
        "outputId": "9b3fd894-1d55-4df4-9bae-cd7db666605d"
      },
      "outputs": [
        {
          "name": "stdout",
          "output_type": "stream",
          "text": [
            "123402\n"
          ]
        }
      ],
      "source": [
        "# 입력\n",
        "n = int(input())"
      ]
    },
    {
      "cell_type": "code",
      "execution_count": null,
      "metadata": {
        "colab": {
          "base_uri": "https://localhost:8080/"
        },
        "id": "Z5eh5KbctHgD",
        "outputId": "f87f48e6-d7ca-4cff-a217-bac4eb02af11"
      },
      "outputs": [
        {
          "name": "stdout",
          "output_type": "stream",
          "text": [
            "LUCKY\n"
          ]
        }
      ],
      "source": [
        "# 마지막에 숫자 하나씩 더하기위해 문자형 리스트로 변환\n",
        "n2 = list(str(n))\n",
        "\n",
        "# 중간에서 끊기 위해 len 계산\n",
        "i = len(n2)//2\n",
        "\n",
        "# 숫자연산할거니까 int 변환\n",
        "n2 = list(map(int, n2))\n",
        "\n",
        "if sum(n2[:i]) == sum(n2[i:]):\n",
        "  print('LUCKY')\n",
        "else:\n",
        "  'READY'"
      ]
    },
    {
      "cell_type": "markdown",
      "metadata": {
        "id": "bzPKqm-ou2AY"
      },
      "source": [
        "## Q8. 문자열 재정렬"
      ]
    },
    {
      "cell_type": "code",
      "execution_count": null,
      "metadata": {
        "id": "mqHmfa6At30j"
      },
      "outputs": [],
      "source": [
        "# s = input()\n",
        "s = 'K1KA5CB7'"
      ]
    },
    {
      "cell_type": "code",
      "execution_count": null,
      "metadata": {
        "colab": {
          "base_uri": "https://localhost:8080/"
        },
        "id": "Zh6PJ4iAvtrg",
        "outputId": "a4750262-19d8-4614-b8ec-747d4315b134"
      },
      "outputs": [
        {
          "name": "stdout",
          "output_type": "stream",
          "text": [
            "ABCKK13\n"
          ]
        }
      ],
      "source": [
        "s = sorted(s)\n",
        "\n",
        "num = 0\n",
        "for i, v in enumerate(s): # i는 문자 인덱스 번호\n",
        "  if v.isdigit():\n",
        "    num += int(v)\n",
        "  else:\n",
        "    break\n",
        "\n",
        "print(''.join(s[i:]) + str(num).replace('0', ''))"
      ]
    },
    {
      "cell_type": "markdown",
      "metadata": {
        "id": "F2a3HsXSxXj1"
      },
      "source": [
        "## Q9. 문자열 압축\n"
      ]
    },
    {
      "cell_type": "code",
      "execution_count": null,
      "metadata": {
        "id": "vNtS4fKFyGd6"
      },
      "outputs": [],
      "source": [
        "# s = input()\n",
        "s_original = 'abcabcabcabcdededededede'"
      ]
    },
    {
      "cell_type": "code",
      "execution_count": null,
      "metadata": {
        "id": "8z_uluUY0FJC"
      },
      "outputs": [],
      "source": [
        "# idea: 단위별로 다 길이를 계산해두고 그 중 min 값을 출력하자\n",
        "\n",
        "def solution(s_original):\n",
        "  # 특정문자열이 반복되려면 최소 두 구간으로 나뉘어져야하므로 자를 수 있는 최대 단위는 2로 나눈 몫\n",
        "  maxcut = len(s_original) // 2\n",
        "\n",
        "  # 결과 저장용\n",
        "  result = {1: len(s_original)}\n",
        "\n",
        "  for i in range(2, maxcut + 1):\n",
        "    # 초기값\n",
        "    s = s_original\n",
        "\n",
        "    # 단어 반복된 횟수\n",
        "    cnt = 1\n",
        "\n",
        "    # 압축된 단어\n",
        "    s2 = ''\n",
        "\n",
        "    while len(s) > 0:\n",
        "      repeat_word = s[:i]\n",
        "      tmp = s[i:2*i]\n",
        "      # print(repeat_word, tmp)\n",
        "\n",
        "      # 단어가 반복된\n",
        "      if repeat_word == tmp:\n",
        "        # print('---do')\n",
        "        cnt += 1\n",
        "      else:\n",
        "        # print('---not')\n",
        "        if cnt > 1:\n",
        "          s2 += str(cnt) + repeat_word\n",
        "          cnt = 1\n",
        "        else:\n",
        "          s2 += repeat_word\n",
        "      s = s[i:]\n",
        "\n",
        "    # 결과 업데이트\n",
        "    result.update({i:len(s2)})\n",
        "    # print(i, s2)\n",
        "\n",
        "  return min(result.values())"
      ]
    },
    {
      "cell_type": "code",
      "execution_count": null,
      "metadata": {
        "colab": {
          "base_uri": "https://localhost:8080/"
        },
        "id": "gTa99NsCAgCd",
        "outputId": "ac0817d8-e775-4bbf-e1c8-32f4e24c5a0b"
      },
      "outputs": [
        {
          "data": {
            "text/plain": [
              "14"
            ]
          },
          "execution_count": 137,
          "metadata": {},
          "output_type": "execute_result"
        }
      ],
      "source": [
        "solution(s_original)"
      ]
    },
    {
      "cell_type": "markdown",
      "metadata": {
        "id": "N_REJCXt8tcv"
      },
      "source": [
        "## Q10.자물쇠와 열쇠"
      ]
    },
    {
      "cell_type": "code",
      "execution_count": null,
      "metadata": {
        "colab": {
          "base_uri": "https://localhost:8080/"
        },
        "id": "4fLKe00W0ogG",
        "outputId": "b620ea64-7547-4d85-d9cd-61870be02e2d"
      },
      "outputs": [
        {
          "name": "stdout",
          "output_type": "stream",
          "text": [
            "-----key-----\n",
            "0 0 0\n",
            "1 0 0\n",
            "0 1 1\n",
            "-----moved_key-----\n",
            "0 0 0\n",
            "0 0 0\n",
            "0 0 0\n",
            "-----lock-----\n",
            "1 1 1\n",
            "1 1 0\n",
            "1 0 1\n"
          ]
        },
        {
          "data": {
            "text/plain": [
              "False"
            ]
          },
          "execution_count": 189,
          "metadata": {},
          "output_type": "execute_result"
        }
      ],
      "source": [
        "# idea: 하나씩 다해보자(90도로 돌려서 한칸씩 이동해보고 안되면 또 90도 돌려서 반복)\n",
        "# 90도씩 돌리는건 3번 수행\n",
        "# 각 방향마다 lock의 길이 - 1 번 움직일 수 있음\n",
        "def solution(key, lock):\n",
        "  n = len(lock)\n",
        "  m = len(key)\n",
        "\n",
        "  moved_key = key\n",
        "  direction = 'R'\n",
        "  while True:\n",
        "    print('-----moved_key-----')\n",
        "    for x, y, z in moved_key:\n",
        "      print(x,y,z)\n",
        "    break_i = False\n",
        "    for i in range(m):\n",
        "      for j in range(m):\n",
        "        if moved_key[i][j] + lock[i][j] != 1:\n",
        "          break_i = True\n",
        "          break\n",
        "      if break_i:\n",
        "        break\n",
        "\n",
        "    # 정답\n",
        "    if break_i == False:\n",
        "        return True\n",
        "\n",
        "    # 다 이동했으므로 move 탈출\n",
        "    if sum(map(sum, moved_key)) == 0:\n",
        "        break\n",
        "\n",
        "    # move\n",
        "    moved_key = move(moved_key, 'U')\n",
        "\n",
        "  while True:\n",
        "    print('-----moved_key-----')\n",
        "    for x, y, z in moved_key:\n",
        "      print(x,y,z)\n",
        "    break_i = False\n",
        "    for i in range(m):\n",
        "      for j in range(m):\n",
        "        if moved_key[i][j] + lock[i][j] != 1:\n",
        "          break_i = True\n",
        "          break\n",
        "      if break_i:\n",
        "        break\n",
        "\n",
        "    # 정답\n",
        "    if break_i == False:\n",
        "        return True\n",
        "\n",
        "    # 다 이동했으므로 move 탈출\n",
        "    if sum(map(sum, moved_key)) == 0:\n",
        "        break\n",
        "\n",
        "    # move\n",
        "    moved_key = move(moved_key, 'D')\n",
        "###########################################3\n",
        "\n",
        "  key = rotate(key)\n",
        "\n",
        "  return False\n",
        "\n",
        "\n",
        "lock = [[1,1,1],[1,1,0],[1,0,1]]\n",
        "print('-----lock-----')\n",
        "for x, y, z in lock:\n",
        "  print(x,y,z)\n",
        "key = [[0,0,0],[1,0,0],[0,1,1]]\n",
        "print('-----key-----')\n",
        "for x, y, z in key:\n",
        "  print(x,y,z)\n",
        "solution(key = [[0,0,0],[1,0,0],[0,1,1]], lock = [[1,1,1],[1,1,0],[1,0,1]])"
      ]
    },
    {
      "cell_type": "code",
      "execution_count": null,
      "metadata": {
        "id": "ONRxlaSSY0zw"
      },
      "outputs": [],
      "source": [
        "# 1칸씩 이동\n",
        "def move(key, direction):\n",
        "  x = len(key)\n",
        "  y = len(key[0])\n",
        "  moved_key = [[0] * x for _ in range(y)]\n",
        "\n",
        "  if direction == 'R':\n",
        "    for i in range(m):\n",
        "      for j in range(m-1):\n",
        "        moved_key[i][j+1] = key[i][j]\n",
        "  elif direction == 'L':\n",
        "    for i in range(m):\n",
        "      for j in range(1, m):\n",
        "        moved_key[i][j-1] = key[i][j]\n",
        "  elif direction == 'D':\n",
        "    for j in range(m):\n",
        "      for i in range(m-1):\n",
        "        moved_key[i+1][j] = key[i][j]\n",
        "  elif direction == 'U':\n",
        "    for j in range(m):\n",
        "      for i in range(1, m):\n",
        "        moved_key[i-1][j] = key[i][j]\n",
        "  else:\n",
        "    print('input R or L or U or D')\n",
        "  return moved_key"
      ]
    },
    {
      "cell_type": "code",
      "execution_count": null,
      "metadata": {
        "id": "nFo6WsnXaPNb"
      },
      "outputs": [],
      "source": [
        "# 90도 회전\n",
        "def rotate(key):\n",
        "  x = len(key)\n",
        "  y = len(key[0])\n",
        "  rotated_key = [[0] * x for _ in range(y)]\n",
        "\n",
        "  for i in range(x):\n",
        "    for j in range(y):\n",
        "      rotated_key[j][x-i-1] = key[i][j]\n",
        "  return rotated_key"
      ]
    },
    {
      "cell_type": "markdown",
      "metadata": {
        "id": "w-rimEDhdKhf"
      },
      "source": [
        "## Q11. 뱀"
      ]
    },
    {
      "cell_type": "code",
      "execution_count": null,
      "metadata": {
        "colab": {
          "base_uri": "https://localhost:8080/"
        },
        "id": "MkUWAJ1aGpOi",
        "outputId": "1ae0789e-05fc-42c5-f4cf-b28ee9412bea"
      },
      "outputs": [
        {
          "name": "stdout",
          "output_type": "stream",
          "text": [
            "10\n",
            "4\n"
          ]
        }
      ],
      "source": [
        "n = int(input())\n",
        "k = int(input())\n",
        "# n = 6\n",
        "# k = 3"
      ]
    },
    {
      "cell_type": "code",
      "execution_count": null,
      "metadata": {
        "colab": {
          "base_uri": "https://localhost:8080/"
        },
        "id": "rn83SU_ktlDI",
        "outputId": "7c51ba3b-74ad-436c-afce-8dd296b16a96"
      },
      "outputs": [
        {
          "name": "stdout",
          "output_type": "stream",
          "text": [
            "1 2\n",
            "1 3\n",
            "1 4\n",
            "1 5\n"
          ]
        },
        {
          "data": {
            "text/plain": [
              "[[0, 1, 1, 1, 1, 0, 0, 0, 0, 0],\n",
              " [0, 0, 0, 0, 0, 0, 0, 0, 0, 0],\n",
              " [0, 0, 0, 0, 0, 0, 0, 0, 0, 0],\n",
              " [0, 0, 0, 0, 0, 0, 0, 0, 0, 0],\n",
              " [0, 0, 0, 0, 0, 0, 0, 0, 0, 0],\n",
              " [0, 0, 0, 0, 0, 0, 0, 0, 0, 0],\n",
              " [0, 0, 0, 0, 0, 0, 0, 0, 0, 0],\n",
              " [0, 0, 0, 0, 0, 0, 0, 0, 0, 0],\n",
              " [0, 0, 0, 0, 0, 0, 0, 0, 0, 0],\n",
              " [0, 0, 0, 0, 0, 0, 0, 0, 0, 0]]"
            ]
          },
          "execution_count": 53,
          "metadata": {},
          "output_type": "execute_result"
        }
      ],
      "source": [
        "board = [[0] * n for _ in range(n)]\n",
        "for i in range(k):\n",
        "  x, y = map(int, input().split())\n",
        "  board[x-1][y-1] = 1\n",
        "\n",
        "board"
      ]
    },
    {
      "cell_type": "code",
      "execution_count": null,
      "metadata": {
        "id": "SblChWt7Uo5l"
      },
      "outputs": [],
      "source": [
        "import copy\n",
        "board2 = copy.deepcopy(board)"
      ]
    },
    {
      "cell_type": "code",
      "execution_count": null,
      "metadata": {
        "colab": {
          "base_uri": "https://localhost:8080/"
        },
        "id": "eaCjQViiHB2-",
        "outputId": "47c1452d-cf8f-41b0-8f13-ecf2e3cff338"
      },
      "outputs": [
        {
          "name": "stdout",
          "output_type": "stream",
          "text": [
            "4\n",
            "8 D\n",
            "10 D\n",
            "11 D\n",
            "13 L\n"
          ]
        },
        {
          "data": {
            "text/plain": [
              "[['8', 'D'], ['10', 'D'], ['11', 'D'], ['13', 'L']]"
            ]
          },
          "execution_count": 103,
          "metadata": {},
          "output_type": "execute_result"
        }
      ],
      "source": [
        "l = int(input())\n",
        "l_list = []\n",
        "for i in range(l):\n",
        "  l_list.append(input().split())\n",
        "\n",
        "l_list"
      ]
    },
    {
      "cell_type": "code",
      "execution_count": null,
      "metadata": {
        "id": "s8pdt_TriB9D"
      },
      "outputs": [],
      "source": [
        "l_list[0]"
      ]
    },
    {
      "cell_type": "code",
      "execution_count": null,
      "metadata": {
        "id": "jYwRj89ZTRTX"
      },
      "outputs": [],
      "source": [
        "board = copy.deepcopy(board2)"
      ]
    },
    {
      "cell_type": "code",
      "execution_count": null,
      "metadata": {
        "colab": {
          "base_uri": "https://localhost:8080/"
        },
        "id": "zcJ2-1s6HAOc",
        "outputId": "06780a9a-c946-42c3-9bd3-72e31ad481d1"
      },
      "outputs": [
        {
          "name": "stdout",
          "output_type": "stream",
          "text": [
            "0 1\n",
            "2\n",
            "0 2\n",
            "2\n",
            "0 3\n",
            "2\n",
            "0 4\n",
            "2\n",
            "0 5\n",
            "3\n",
            "0 6\n",
            "3\n",
            "0 7\n",
            "3\n",
            "rotate\n",
            "1 7\n",
            "3\n",
            "2 7\n",
            "3\n",
            "rotate\n",
            "2 6\n",
            "3\n",
            "rotate\n",
            "1 6\n",
            "3\n",
            "0 6\n",
            "3\n",
            "rotate\n",
            "0 5\n",
            "3\n",
            "0 4\n",
            "3\n",
            "0 3\n",
            "3\n",
            "0 2\n",
            "3\n",
            "0 1\n",
            "3\n",
            "0 0\n",
            "3\n",
            "0 -1\n",
            "1\n",
            "19\n"
          ]
        }
      ],
      "source": [
        "def solution():\n",
        "  array = [[0] * n for _ in range(n)]\n",
        "  array[0][0] = 1\n",
        "  x = 0\n",
        "  y = 0\n",
        "  tail_x = 0\n",
        "  tail_y = 0\n",
        "\n",
        "  dx = [0, -1, 0, 1] # R U L D\n",
        "  dy = [1, 0, -1, 0]\n",
        "\n",
        "  answer = 1\n",
        "  direction = 0\n",
        "  tail_list = []\n",
        "  idx = 0\n",
        "  while True:\n",
        "    nx = x + dx[direction]\n",
        "    ny = y + dy[direction]\n",
        "    print(nx, ny)\n",
        "    # 범위 벗어나면 끝\n",
        "    if nx >= n or ny >= n or nx < 0 or ny < 0:\n",
        "      print(1)\n",
        "      return answer\n",
        "    # 사과가 있으면\n",
        "    elif board[nx][ny] == 1:\n",
        "      print(2)\n",
        "      board[nx][ny] = 0\n",
        "      array[nx][ny] = 1\n",
        "      # tail_list.append([x, y])\n",
        "    # 사과가 없으면\n",
        "    else:\n",
        "      print(3)\n",
        "      if array[nx][ny] == 1:\n",
        "        return answer\n",
        "      array[nx][ny] = 1\n",
        "      tail = tail_list.pop(0)\n",
        "      array[tail[0]][tail[1]] = 0\n",
        "\n",
        "    tail_list.append([x, y])\n",
        "    x = nx\n",
        "    y = ny\n",
        "\n",
        "    answer += 1\n",
        "\n",
        "    if idx < l and answer == int(l_list[idx][0]):\n",
        "\n",
        "      rotate = l_list[idx][1]\n",
        "      if rotate == 'L':\n",
        "        direction += 1\n",
        "      else:\n",
        "        direction -= 1\n",
        "      if direction == 4:\n",
        "        direction = 0\n",
        "      elif direction == -1:\n",
        "        direction = 3\n",
        "      idx += 1\n",
        "      print('rotate')\n",
        "\n",
        "  print(4)\n",
        "  return answer\n",
        "\n",
        "print(solution())"
      ]
    },
    {
      "cell_type": "markdown",
      "metadata": {
        "id": "lWcpGYaNjcoc"
      },
      "source": [
        "## Q12. 기둥과 보 설치\n",
        "진심,, 모르겠다,,"
      ]
    },
    {
      "cell_type": "code",
      "execution_count": null,
      "metadata": {
        "id": "rB6f4LHbjfD2"
      },
      "outputs": [],
      "source": [
        "# 현재 설치된 구조물이 '가능한'구조물인지 확인하는 함수\n",
        "def possible(answer):\n",
        "  for x, y, stuff in answer:\n",
        "    if stuff == 0: # 설치된 것이 '기둥'인 경우\n",
        "      if y == 0 or [x - 1, y, 1] in answer or [x, y, 1] in answer or [x, y - 1, 0] in answer:\n",
        "        continue\n",
        "      return False\n",
        "    elif stuff == 1:\n",
        "      if [x, y-1, 0] in answer or [x+1, y-1, 0] in answer or ([x-1, y,1] in answer and [x-1,y,1] in answer):\n",
        "        continue\n",
        "      return False\n",
        "    return True\n",
        "\n",
        "def solution(n, build_frame):\n",
        "    answer = []\n",
        "    for frame in build_frame:\n",
        "      x, y, stuff, operate = frame\n",
        "      if operate == 0:\n",
        "        answer.remove([x, y, stuff])\n",
        "      if operate == 1:\n",
        "        answer.append([x,y,stuff])\n",
        "        if not possible(answer):\n",
        "          answer.remove([x,y,stuff])\n",
        "\n",
        "    return sorted(answer)"
      ]
    },
    {
      "cell_type": "markdown",
      "metadata": {
        "id": "LbfAqeGanxNy"
      },
      "source": [
        "## Q13. 치킨배달"
      ]
    },
    {
      "cell_type": "code",
      "execution_count": null,
      "metadata": {
        "id": "VtICxVFxnzdn"
      },
      "outputs": [],
      "source": [
        "from itertools import combinations\n",
        "\n",
        "n, m = map(int, input().split())\n",
        "chicken, house = [], []\n",
        "\n",
        "for r in range(n):\n",
        "  data = list(map(int, input().split()))\n",
        "  for c in range(n):\n",
        "    if data[c] == 1:\n",
        "      house.append((r,c))\n",
        "    elif data[c] == 2:\n",
        "      chicken.append((r, c))\n",
        "\n",
        "candidates = list(combinations(chicken, m))\n",
        "\n",
        "def get_sum(candidate):\n",
        "  result = 0\n",
        "  for hx, hy in house:\n",
        "    temp = 1e9\n",
        "    for cx, cy in candidate:\n",
        "      temp = min(temp, abs(hx - cx) + abs(hy - cy))\n",
        "    result += temp\n",
        "  return result\n",
        "\n",
        "result = 1e9\n",
        "for candidate in candidates:\n",
        "  result = min(result, get_sum(candidate))\n",
        "\n",
        "print(result)"
      ]
    },
    {
      "cell_type": "markdown",
      "metadata": {
        "id": "xFMtxdp4ojgK"
      },
      "source": [
        "## Q14.외벽점검"
      ]
    },
    {
      "cell_type": "code",
      "execution_count": null,
      "metadata": {
        "id": "r0YDKBzMolvi"
      },
      "outputs": [],
      "source": [
        "from itertools import permutations\n",
        "\n",
        "def solution(n, weak, dist):\n",
        "  length = len(weak)\n",
        "  for i in range(length):\n",
        "    weak.append(weak[i] + n)\n",
        "  answer = len(dist) + 1\n",
        "\n",
        "  for start in range(length):\n",
        "    for friends in list(permutations(dist, len(dist))):\n",
        "      count = 1\n",
        "      position = weak[start] + friends[count - 1]\n",
        "      for index in range(start, start+length):\n",
        "        if position < weak[index]:\n",
        "          count += 1\n",
        "          if count > len(dist):\n",
        "            break\n",
        "          position = weak[index] + friends[count - 1]\n",
        "    answer = min(answer, count)\n",
        "  if answer > len(dist):\n",
        "    return -1\n",
        "  return answer"
      ]
    }
  ],
  "metadata": {
    "colab": {
      "provenance": []
    },
    "kernelspec": {
      "display_name": "Python 3",
      "name": "python3"
    },
    "language_info": {
      "name": "python"
    }
  },
  "nbformat": 4,
  "nbformat_minor": 0
}
