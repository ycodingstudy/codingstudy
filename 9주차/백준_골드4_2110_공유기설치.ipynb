{
 "cells": [
  {
   "cell_type": "markdown",
   "metadata": {},
   "source": [
    "https://www.acmicpc.net/problem/2110"
   ]
  },
  {
   "cell_type": "markdown",
   "metadata": {},
   "source": [
    "* idea\n",
    "    * 인접한 두 공유기 사이의 최대 거리를 찾아야한다 -> 완탐하기에는 좌표 최대값이 10억 -> 이 거리를 x로하여 이분탐색을 수행하자\n",
    "    * 집이 최대 20만개니까 20만*log20만 < 2000만 -> 정렬 후 이분탐색 사용 가능\n",
    "    * start = 1 (집들은 겹치지 않으니까), end = max(house) - min(house)\n",
    "    * 양쪽 끝 집에 무조건 공유기 설치. 나머지 가운데 집들 중에 최대거리로 설치"
   ]
  },
  {
   "cell_type": "code",
   "execution_count": 2,
   "metadata": {},
   "outputs": [
    {
     "name": "stdout",
     "output_type": "stream",
     "text": [
      "mid: 4\n",
      "8\n",
      "cnt: 3\n",
      "move end==========\n",
      "mid: 2\n",
      "4\n",
      "cnt: 3\n",
      "move start==========\n",
      "mid: 3\n",
      "4\n",
      "cnt: 3\n",
      "move start==========\n",
      "3\n"
     ]
    }
   ],
   "source": [
    "sys_stdin = open('C:/Users/jiyeon/Desktop/baekjoon.txt', 'r')\n",
    "\n",
    "n, c = map(int, sys_stdin.readline().split())\n",
    "house = list(int(sys_stdin.readline()) for _ in range(n))\n",
    "house.sort()\n",
    "\n",
    "# 집 분리\n",
    "c_first = house[0] # 첫집\n",
    "c_last = house[-1] # 끝집\n",
    "house2 = house[1:-1] # 가운데집들\n",
    "\n",
    "# 공유기 간격 가능 범위\n",
    "start = 1 # 최소 간격은 1\n",
    "end = c_last - c_first # 최대 간격은 집 범위\n",
    "\n",
    "# 집이 2개면 양끝에 설치하고 종료\n",
    "if c == 2:\n",
    "    print(end)\n",
    "else:\n",
    "    while start <= end:\n",
    "        mid = (start + end) // 2 # 공유기 간격\n",
    "        \n",
    "        print('mid:',mid)\n",
    "        c_cnt = 2 # 설치한 공유기 개수\n",
    "        old = c_first # 이전 집 위치\n",
    "        for i in house2:\n",
    "            if i - old >= mid: # 공유기 설치\n",
    "                print(i)\n",
    "                c_cnt += 1\n",
    "                old = i\n",
    "            if c_cnt == c:\n",
    "                break\n",
    "\n",
    "        print('cnt:', c_cnt)\n",
    "        if c_cnt < c or c_last - old < mid: # 설치 대수가 모자르거나 끝 집과 그 전 집 거리 부족\n",
    "            print('move end==========')\n",
    "            end = mid - 1\n",
    "        else:\n",
    "            print('move start==========')\n",
    "            start = mid + 1\n",
    "            answer = mid\n",
    "\n",
    "    print(answer)"
   ]
  }
 ],
 "metadata": {
  "kernelspec": {
   "display_name": "base",
   "language": "python",
   "name": "python3"
  },
  "language_info": {
   "codemirror_mode": {
    "name": "ipython",
    "version": 3
   },
   "file_extension": ".py",
   "mimetype": "text/x-python",
   "name": "python",
   "nbconvert_exporter": "python",
   "pygments_lexer": "ipython3",
   "version": "3.9.12"
  }
 },
 "nbformat": 4,
 "nbformat_minor": 2
}
