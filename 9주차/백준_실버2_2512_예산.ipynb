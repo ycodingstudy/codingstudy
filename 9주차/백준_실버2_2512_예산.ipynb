{
 "cells": [
  {
   "cell_type": "markdown",
   "metadata": {},
   "source": [
    "https://www.acmicpc.net/problem/2512"
   ]
  },
  {
   "cell_type": "markdown",
   "metadata": {},
   "source": [
    "* idea\n",
    "    * 평균값을 예산으로 설정한 후, 그보다 작은 값은 예산 + 작은값/(그 외 지방 수) 반복\n",
    "    * 실패,,\n",
    "\n",
    "-> 이분탐색 정답 검색함,,,"
   ]
  },
  {
   "cell_type": "markdown",
   "metadata": {},
   "source": [
    "# 정답"
   ]
  },
  {
   "cell_type": "code",
   "execution_count": 63,
   "metadata": {},
   "outputs": [
    {
     "name": "stdout",
     "output_type": "stream",
     "text": [
      "76 75 150 300\n",
      "114 113 150 449\n",
      "114 132 131 494\n",
      "123 122 131 474\n",
      "128 127 131 484\n",
      "128 129 128 488\n",
      "128 128 127 486\n",
      "127\n"
     ]
    }
   ],
   "source": [
    "sys_stdin = open('C:/Users/jiyeon/Desktop/baekjoon.txt', 'r')\n",
    "\n",
    "n = int(sys_stdin.readline())\n",
    "array = list(map(int, sys_stdin.readline().split()))\n",
    "m = int(sys_stdin.readline())\n",
    "\n",
    "start, end = 0, max(array)\n",
    "\n",
    "# 이분탐색\n",
    "while start <= end:\n",
    "    mid = (start + end) // 2\n",
    "    total = 0 # 총 지출액\n",
    "    for i in array:\n",
    "        if i > mid:\n",
    "            total += mid\n",
    "        else:\n",
    "            total += i\n",
    "    if total <= m:\n",
    "        start = mid + 1\n",
    "    else:\n",
    "        end = mid - 1\n",
    "    print(start, mid, end, total)\n",
    "\n",
    "print(end)"
   ]
  },
  {
   "cell_type": "markdown",
   "metadata": {},
   "source": [
    "# 틀린 답안"
   ]
  },
  {
   "cell_type": "code",
   "execution_count": 35,
   "metadata": {},
   "outputs": [
    {
     "name": "stdout",
     "output_type": "stream",
     "text": [
      "[120, 110, 140, 150]\n",
      "0 121.25 11.25 3\n",
      "1 121.25 12.5 2\n",
      "127\n"
     ]
    }
   ],
   "source": [
    "sys_stdin = open('C:/Users/jiyeon/Desktop/baekjoon.txt', 'r')\n",
    "\n",
    "n = int(sys_stdin.readline())\n",
    "array = list(map(int, sys_stdin.readline().split()))\n",
    "m = int(sys_stdin.readline())\n",
    "print(array)\n",
    "\n",
    "array.sort()\n",
    "idx = 0\n",
    "tmp_sum = 0\n",
    "tmp_cnt = n\n",
    "answer = m / len(array)\n",
    "for i in range(n):\n",
    "    if array[i] >= answer:\n",
    "        answer = (answer + tmp_sum/tmp_cnt)\n",
    "        tmp_sum = 0\n",
    "        if array[i] >= answer:\n",
    "            break\n",
    "    else:\n",
    "        tmp_sum += answer - array[i]\n",
    "        tmp_cnt -= 1\n",
    "    print(i, answer, tmp_sum, tmp_cnt)\n",
    "\n",
    "print(min(array[-1], int(answer)))"
   ]
  },
  {
   "cell_type": "markdown",
   "metadata": {},
   "source": [
    "# 완전탐색 -> 시간초과"
   ]
  },
  {
   "cell_type": "code",
   "execution_count": 24,
   "metadata": {},
   "outputs": [
    {
     "name": "stdout",
     "output_type": "stream",
     "text": [
      "20924\n"
     ]
    }
   ],
   "source": [
    "sys_stdin = open('C:/Users/jiyeon/Desktop/baekjoon.txt', 'r')\n",
    "\n",
    "n = int(sys_stdin.readline())\n",
    "array = list(map(int, sys_stdin.readline().split()))\n",
    "m = int(sys_stdin.readline())\n",
    "\n",
    "answer = 0\n",
    "while True:\n",
    "    if sum(map(lambda x: min(x, answer), array)) > m:\n",
    "        answer -= 1\n",
    "        break\n",
    "    answer += 1\n",
    "\n",
    "print(answer)"
   ]
  }
 ],
 "metadata": {
  "kernelspec": {
   "display_name": "base",
   "language": "python",
   "name": "python3"
  },
  "language_info": {
   "codemirror_mode": {
    "name": "ipython",
    "version": 3
   },
   "file_extension": ".py",
   "mimetype": "text/x-python",
   "name": "python",
   "nbconvert_exporter": "python",
   "pygments_lexer": "ipython3",
   "version": "3.9.12"
  },
  "orig_nbformat": 4
 },
 "nbformat": 4,
 "nbformat_minor": 2
}
