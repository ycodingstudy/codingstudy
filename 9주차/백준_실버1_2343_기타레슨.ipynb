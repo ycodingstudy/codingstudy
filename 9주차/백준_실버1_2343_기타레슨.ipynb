{
 "cells": [
  {
   "cell_type": "markdown",
   "metadata": {},
   "source": [
    "https://www.acmicpc.net/problem/2343"
   ]
  },
  {
   "cell_type": "markdown",
   "metadata": {},
   "source": [
    "못풀어서,, 답 찾아봄,,,"
   ]
  },
  {
   "cell_type": "code",
   "execution_count": 1,
   "metadata": {},
   "outputs": [
    {
     "name": "stdout",
     "output_type": "stream",
     "text": [
      "17\n"
     ]
    }
   ],
   "source": [
    "sys_stdin = open('C:/Users/jiyeon/Desktop/baekjoon.txt', 'r')\n",
    "\n",
    "n, m = map(int, sys_stdin.readline().split())\n",
    "video = list(map(int, sys_stdin.readline().split()))\n",
    "\n",
    "\n",
    "vm = max(video) # 블루레이가 엄청 많을 때, 블루레이 최소 크기\n",
    "start = vm\n",
    "end = sum(video) # 블루레이가 1개일 때, 블루레이 최대 크기\n",
    "\n",
    "result = 1e9\n",
    "while(start <= end):\n",
    "    mid = (start+end) // 2 # 블루레이 크기\n",
    "    cnt = 1 # 블루레이 개수\n",
    "    tmp = 0 # 현재 블루레이 크기\n",
    "    for i in range(n):\n",
    "        if(tmp+video[i] <= mid): # 만약 현재 블루레이에 비디오를 더 넣을 수 있다면\n",
    "            tmp += video[i]\n",
    "        else: # 다 찼으면 새 블루레이에 넣기 시작\n",
    "            cnt += 1 # 블루레이 개수 추가\n",
    "            tmp = video[i] # 새 블루레이 초기화\n",
    "        if(cnt > m):\n",
    "            break\n",
    "    if(cnt > m):\n",
    "        start = mid+1\n",
    "    else:\n",
    "        end = mid-1\n",
    "        if(mid >= vm):\n",
    "            result = min(result, mid)\n",
    "\n",
    "print(result)"
   ]
  }
 ],
 "metadata": {
  "kernelspec": {
   "display_name": "base",
   "language": "python",
   "name": "python3"
  },
  "language_info": {
   "codemirror_mode": {
    "name": "ipython",
    "version": 3
   },
   "file_extension": ".py",
   "mimetype": "text/x-python",
   "name": "python",
   "nbconvert_exporter": "python",
   "pygments_lexer": "ipython3",
   "version": "3.9.12"
  },
  "orig_nbformat": 4
 },
 "nbformat": 4,
 "nbformat_minor": 2
}
