{
 "cells": [
  {
   "cell_type": "markdown",
   "metadata": {},
   "source": [
    "https://www.acmicpc.net/problem/1654"
   ]
  },
  {
   "cell_type": "markdown",
   "metadata": {},
   "source": [
    "* idea\n",
    "    * 이분탐색\n",
    "    * 랜선 최대 길이 탐색 범위 start, end 필요\n",
    "    * start는 1?, end는 가지고 있는 랜선들 중 최댓값"
   ]
  },
  {
   "cell_type": "code",
   "execution_count": 6,
   "metadata": {},
   "outputs": [
    {
     "name": "stdout",
     "output_type": "stream",
     "text": [
      "150\n"
     ]
    }
   ],
   "source": [
    "sys_stdin = open('C:/Users/jiyeon/Desktop/baekjoon.txt', 'r')\n",
    "\n",
    "k, n = map(int, sys_stdin.readline().split())\n",
    "array = list(int(sys_stdin.readline()) for _ in range(k))\n",
    "\n",
    "start = 1\n",
    "end = max(array)\n",
    "answer = start\n",
    "\n",
    "while start <= end:\n",
    "    mid = (start + end) // 2\n",
    "\n",
    "    cnt = 0 # 자른 랜선 개수\n",
    "    for i in array:\n",
    "        cnt += i // mid\n",
    "\n",
    "    if cnt < n: # n개 못잘랐으면 랜선 길이 줄이기\n",
    "        end = mid - 1\n",
    "    else:\n",
    "        start = mid + 1\n",
    "        answer = mid\n",
    "\n",
    "print(answer)"
   ]
  }
 ],
 "metadata": {
  "kernelspec": {
   "display_name": "base",
   "language": "python",
   "name": "python3"
  },
  "language_info": {
   "codemirror_mode": {
    "name": "ipython",
    "version": 3
   },
   "file_extension": ".py",
   "mimetype": "text/x-python",
   "name": "python",
   "nbconvert_exporter": "python",
   "pygments_lexer": "ipython3",
   "version": "3.9.12"
  }
 },
 "nbformat": 4,
 "nbformat_minor": 2
}
