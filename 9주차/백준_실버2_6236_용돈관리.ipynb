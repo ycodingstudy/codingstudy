{
 "cells": [
  {
   "cell_type": "markdown",
   "metadata": {},
   "source": [
    "https://www.acmicpc.net/problem/6236"
   ]
  },
  {
   "cell_type": "markdown",
   "metadata": {},
   "source": [
    "못품,,,,,, 답 확인,, "
   ]
  },
  {
   "cell_type": "code",
   "execution_count": 3,
   "metadata": {},
   "outputs": [
    {
     "name": "stdout",
     "output_type": "stream",
     "text": [
      "500\n"
     ]
    }
   ],
   "source": [
    "sys_stdin = open('C:/Users/jiyeon/Desktop/baekjoon.txt', 'r')\n",
    "\n",
    "n, m = map(int, sys_stdin.readline().split())\n",
    "daily = list(int(sys_stdin.readline()) for _ in range(n))\n",
    "lt = max(daily)\n",
    "rt = sum(daily)\n",
    "\n",
    "while lt <= rt:\n",
    "    mid = (lt + rt) // 2 # 인출할 금액\n",
    "    charge = mid # 현재 가진 돈 (처음 인출)\n",
    "    num = 1 # 인출 횟수\n",
    "    for i in range(n): # n일동안 \n",
    "        if charge < daily[i]:\n",
    "            charge = mid # 부족하면 새로 꺼낸다고 했으니까\n",
    "            num += 1\n",
    "        charge -= daily[i]\n",
    "\n",
    "    # m번보다 많이 인출했다면\n",
    "    if num > m : \n",
    "        lt = mid + 1\n",
    "    else:\n",
    "        rt = mid - 1\n",
    "        k = mid\n",
    "\n",
    "print(k)\n"
   ]
  }
 ],
 "metadata": {
  "kernelspec": {
   "display_name": "base",
   "language": "python",
   "name": "python3"
  },
  "language_info": {
   "codemirror_mode": {
    "name": "ipython",
    "version": 3
   },
   "file_extension": ".py",
   "mimetype": "text/x-python",
   "name": "python",
   "nbconvert_exporter": "python",
   "pygments_lexer": "ipython3",
   "version": "3.9.12"
  }
 },
 "nbformat": 4,
 "nbformat_minor": 2
}
