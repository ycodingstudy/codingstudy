{
 "cells": [
  {
   "cell_type": "markdown",
   "metadata": {},
   "source": [
    "https://school.programmers.co.kr/learn/courses/30/lessons/60063"
   ]
  },
  {
   "cell_type": "code",
   "execution_count": 1,
   "metadata": {},
   "outputs": [],
   "source": [
    "board = [[0, 0, 0, 1, 1],[0, 0, 0, 1, 0],[0, 1, 0, 1, 1],[1, 1, 0, 0, 1],[0, 0, 0, 0, 0]]\n",
    "n = len(board)"
   ]
  },
  {
   "cell_type": "code",
   "execution_count": 2,
   "metadata": {},
   "outputs": [
    {
     "name": "stdout",
     "output_type": "stream",
     "text": [
      "[0, 0, 0, 1, 1]\n",
      "[0, 0, 0, 1, 0]\n",
      "[0, 1, 0, 1, 1]\n",
      "[1, 1, 0, 0, 1]\n",
      "[0, 0, 0, 0, 0]\n"
     ]
    }
   ],
   "source": [
    "for i in board:\n",
    "    print(i)"
   ]
  },
  {
   "cell_type": "markdown",
   "metadata": {},
   "source": [
    "못풀었다 아래 풀이 참고,,  \n",
    "https://alreadyusedadress.tistory.com/322\n"
   ]
  },
  {
   "cell_type": "code",
   "execution_count": 19,
   "metadata": {},
   "outputs": [],
   "source": [
    "# 값 입력\n",
    "board = [[0, 0, 0, 1, 1],[0, 0, 0, 1, 0],[0, 1, 0, 1, 1],[1, 1, 0, 0, 1],[0, 0, 0, 0, 0]]"
   ]
  },
  {
   "cell_type": "code",
   "execution_count": 29,
   "metadata": {},
   "outputs": [
    {
     "name": "stdout",
     "output_type": "stream",
     "text": [
      "7\n"
     ]
    }
   ],
   "source": [
    "from collections import deque\n",
    "\n",
    "def get_next(position, board):\n",
    "    next_position = []\n",
    "    position = list(position)\n",
    "\n",
    "    # 로봇의 좌(상), 우(하)\n",
    "    lx, ly = position[0]\n",
    "    rx, ry = position[1]\n",
    "\n",
    "    # 이동방향\n",
    "    dx = [1, -1, 0, 0]\n",
    "    dy = [0, 0, 1, -1]\n",
    "    \n",
    "    # 상하좌우로 로봇 움직이기\n",
    "    for k in range(4):\n",
    "        # next x, y\n",
    "        nlx, nly = lx + dx[k], ly + dy[k]\n",
    "        nrx, nry = rx + dx[k], ry + dy[k]\n",
    "\n",
    "        if board[nlx][nly] == board[nrx][nry] == 0:\n",
    "            next_position.append({(nlx,nly), (nrx, nry)})\n",
    "\n",
    "    # 회전시킨 위치도 추가\n",
    "    ## 행이 같은 경우\n",
    "    if lx == rx:\n",
    "        for k in [1, -1]:\n",
    "            if board[lx+k][ly] == board[rx+k][ry] == 0:\n",
    "                next_position.append({(lx,ly), (lx+k,ly)})\n",
    "                next_position.append({(rx,ry), (rx+k,ry)})\n",
    "    # 열이 같은 경우\n",
    "    elif ly == ry:\n",
    "        for k in [1, -1]:\n",
    "            if board[lx][ly+k] == board[rx][ry+k] == 0:\n",
    "                next_position.append({(lx,ly), (lx,ly+k)})\n",
    "                next_position.append({(rx,ry), (rx,ry+k)})\n",
    "\n",
    "    return next_position\n",
    "\n",
    "def solution(board):\n",
    "    n = len(board)\n",
    "        \n",
    "    # 보드 늘리기\n",
    "    new_board = [[1] * (n + 2) for _ in range(n + 2)]\n",
    "    for i in range(n):\n",
    "        for j in range(n):\n",
    "            new_board[i + 1][j + 1] = board[i][j]\n",
    "            \n",
    "    # 처음 로봇 위치\n",
    "    queue = deque()\n",
    "    queue.append(({(1,1), (1,2)}, 0))\n",
    "    # 방문 기록\n",
    "    visited = []\n",
    "\n",
    "    # bfs 시작\n",
    "    while queue:\n",
    "        position, time = queue.popleft()\n",
    "        # 로봇이 (n,n) 위치에 도착하면 stop\n",
    "        if (n,n) in position:\n",
    "            return time\n",
    "\n",
    "        for next_position in get_next(position, new_board):\n",
    "            if next_position not in visited:\n",
    "                visited.append(next_position)\n",
    "                queue.append((next_position, time+1))\n"
   ]
  }
 ],
 "metadata": {
  "kernelspec": {
   "display_name": "base",
   "language": "python",
   "name": "python3"
  },
  "language_info": {
   "codemirror_mode": {
    "name": "ipython",
    "version": 3
   },
   "file_extension": ".py",
   "mimetype": "text/x-python",
   "name": "python",
   "nbconvert_exporter": "python",
   "pygments_lexer": "ipython3",
   "version": "3.9.12"
  },
  "orig_nbformat": 4
 },
 "nbformat": 4,
 "nbformat_minor": 2
}
