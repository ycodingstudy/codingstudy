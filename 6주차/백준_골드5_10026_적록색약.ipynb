{
 "cells": [
  {
   "cell_type": "markdown",
   "metadata": {},
   "source": [
    "https://www.acmicpc.net/problem/10026"
   ]
  },
  {
   "cell_type": "code",
   "execution_count": 2,
   "metadata": {},
   "outputs": [
    {
     "name": "stdout",
     "output_type": "stream",
     "text": [
      "4\n",
      "3\n"
     ]
    }
   ],
   "source": [
    "from collections import deque\n",
    "sys_stdin = open('C:/Users/jiyeon/Desktop/baekjoon.txt', 'r')\n",
    "\n",
    "# 값 입력\n",
    "n = int(sys_stdin.readline())\n",
    "board = []\n",
    "for _ in range(n):\n",
    "    board.append(list(sys_stdin.readline().rstrip()))\n",
    "\n",
    "# 방향이동\n",
    "dx = [1, -1, 0, 0]\n",
    "dy = [0, 0, 1, -1]\n",
    "\n",
    "# bfs 함수\n",
    "def bfs(board, x, y, visited, blindver):\n",
    "    queue = deque()\n",
    "    queue.append((x, y))\n",
    "    visited[x][y] = True\n",
    "\n",
    "    color = board[x][y]\n",
    "    colors = color\n",
    "    # 적록색약\n",
    "    if blindver and color in ['R', 'G']:\n",
    "        colors = ['R', 'G']\n",
    "\n",
    "    while queue:\n",
    "        vx, vy = queue.popleft()\n",
    "        for k in range(4):\n",
    "            nx = vx + dx[k]\n",
    "            ny = vy + dy[k]\n",
    "            if 0 <= nx < n and 0 <= ny < n:\n",
    "                if not visited[nx][ny] and board[nx][ny] in colors:\n",
    "                    queue.append((nx, ny))\n",
    "                    visited[nx][ny] = True\n",
    "\n",
    "# 방문여부\n",
    "visited_normal = [[False] * n for _ in range(n)]\n",
    "visited_blind = [[False] * n for _ in range(n)]\n",
    "\n",
    "# bfs 수행\n",
    "grp_normal = 0\n",
    "grp_blind = 0\n",
    "for i in range(n):\n",
    "    for j in range(n):\n",
    "        # 일반\n",
    "        if not visited_normal[i][j]:\n",
    "            bfs(board, i, j, visited_normal, False)\n",
    "            grp_normal += 1\n",
    "        # 색약\n",
    "        if not visited_blind[i][j]:\n",
    "            bfs(board, i, j, visited_blind, True)\n",
    "            grp_blind += 1\n",
    "\n",
    "# 출력\n",
    "print(grp_normal)\n",
    "print(grp_blind)"
   ]
  }
 ],
 "metadata": {
  "kernelspec": {
   "display_name": "base",
   "language": "python",
   "name": "python3"
  },
  "language_info": {
   "codemirror_mode": {
    "name": "ipython",
    "version": 3
   },
   "file_extension": ".py",
   "mimetype": "text/x-python",
   "name": "python",
   "nbconvert_exporter": "python",
   "pygments_lexer": "ipython3",
   "version": "3.9.12"
  },
  "orig_nbformat": 4
 },
 "nbformat": 4,
 "nbformat_minor": 2
}
