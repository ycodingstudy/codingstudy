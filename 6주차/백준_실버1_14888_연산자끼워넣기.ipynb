{
 "cells": [
  {
   "cell_type": "markdown",
   "metadata": {},
   "source": [
    "https://www.acmicpc.net/problem/14888"
   ]
  },
  {
   "cell_type": "markdown",
   "metadata": {},
   "source": [
    "그냥 탐색으로 풀음  \n",
    "dfs로 어떻게??,,"
   ]
  },
  {
   "cell_type": "code",
   "execution_count": 44,
   "metadata": {},
   "outputs": [
    {
     "name": "stdout",
     "output_type": "stream",
     "text": [
      "21\n",
      "21\n"
     ]
    }
   ],
   "source": [
    "sys_stdin = open('C:/Users/jiyeon/Desktop/baekjoon.txt', 'r')\n",
    "n = int(sys_stdin.readline())\n",
    "A = list(map(int, sys_stdin.readline().split()))\n",
    "ops_cnt = list(map(int, sys_stdin.readline().split()))\n",
    "\n",
    "# 순열 이용\n",
    "from itertools import permutations\n",
    "ops = ['plus'] * ops_cnt[0] + ['minus'] * ops_cnt[1] + ['multiple'] * ops_cnt[2] + ['divide'] * ops_cnt[3]\n",
    "permus = list(set(permutations(ops, n-1)))\n",
    "\n",
    "# 나눗셈 함수\n",
    "def divide(bf, af):\n",
    "    if bf < 0:\n",
    "        return - (abs(bf) // af)\n",
    "    return bf // af\n",
    "\n",
    "# 모든 연산자 순열에 대해 연산 시작\n",
    "answer_max = -1e9-1\n",
    "answer_min = 1e9+1\n",
    "for permu in permus:\n",
    "    result = A[0]\n",
    "    for i in range(n-1):\n",
    "        if permu[i] == 'plus':\n",
    "            result += A[i+1]\n",
    "        elif permu[i] == 'minus':\n",
    "            result -= A[i+1]\n",
    "        elif permu[i] == 'multiple':\n",
    "            result *= A[i+1]\n",
    "        else:\n",
    "            result = divide(result, A[i+1])\n",
    "    answer_max = max(answer_max, result)\n",
    "    answer_min = min(answer_min, result)\n",
    "\n",
    "# 출력\n",
    "print(answer_max)\n",
    "print(answer_min)\n"
   ]
  },
  {
   "cell_type": "code",
   "execution_count": 38,
   "metadata": {},
   "outputs": [
    {
     "data": {
      "text/plain": [
       "1000000000000000000000000"
      ]
     },
     "execution_count": 38,
     "metadata": {},
     "output_type": "execute_result"
    }
   ],
   "source": [
    "max(1e9, 1000000000000000000000000)"
   ]
  }
 ],
 "metadata": {
  "kernelspec": {
   "display_name": "base",
   "language": "python",
   "name": "python3"
  },
  "language_info": {
   "codemirror_mode": {
    "name": "ipython",
    "version": 3
   },
   "file_extension": ".py",
   "mimetype": "text/x-python",
   "name": "python",
   "nbconvert_exporter": "python",
   "pygments_lexer": "ipython3",
   "version": "3.9.12"
  },
  "orig_nbformat": 4
 },
 "nbformat": 4,
 "nbformat_minor": 2
}
