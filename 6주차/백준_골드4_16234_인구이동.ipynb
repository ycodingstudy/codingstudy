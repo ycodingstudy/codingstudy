{
 "cells": [
  {
   "cell_type": "markdown",
   "metadata": {},
   "source": [
    "https://www.acmicpc.net/problem/16234"
   ]
  },
  {
   "cell_type": "markdown",
   "metadata": {},
   "source": [
    "모든 땅에 대해서  \n",
    "자신의 상하좌우 땅과 L, R 조건 비교하여 성립하면 연합에 추가  \n",
    "연합끼리 인구 재분배  \n",
    "일수 하루 추가  \n",
    "\n",
    "연합이 생기지 않을 때 까지 위 과정 반복  \n",
    "\n",
    "!! 연합 여러개 주의!"
   ]
  },
  {
   "cell_type": "code",
   "execution_count": 34,
   "metadata": {},
   "outputs": [],
   "source": [
    "# 값 입력\n",
    "sys_stdin = open('C:/Users/jiyeon/Desktop/baekjoon.txt', 'r')\n",
    "n, l, r = map(int, sys_stdin.readline().split())\n",
    "board = []\n",
    "for _ in range(n):\n",
    "    board.append(list(map(int, sys_stdin.readline().split())))\n",
    "\n",
    "# bfs 이용\n",
    "from collections import deque\n",
    "\n",
    "# 방향키\n",
    "dx = [1, -1, 0, 0]\n",
    "dy = [0, 0, 1, -1]\n",
    "\n",
    "# bfs 함수\n",
    "def bfs(board, x, y, visited):\n",
    "    queue = deque()\n",
    "    queue.append((x, y))\n",
    "    # 현재 국가 방문처리\n",
    "    visited[x][y] = True\n",
    "\n",
    "    # 이번 연합 생성\n",
    "    union = []\n",
    "    union.append((x, y))\n",
    "\n",
    "    while queue:\n",
    "        vx, vy = queue.popleft()\n",
    "        # 현재 국가 기준 인접국가 확인\n",
    "        for k in range(4):\n",
    "            nx = vx + dx[k]\n",
    "            ny = vy + dy[k]\n",
    "            # 범위를 안넘고, 아직 방문안했으며\n",
    "            if 0 <= nx < n and 0 <= ny < n and not visited[nx][ny]:\n",
    "                # 인구이동 조건에 부합하면\n",
    "                if l <= abs(board[vx][vy] - board[nx][ny]) <= r:\n",
    "                    queue.append((nx, ny)) # 이 국가 기준으로도 살펴봐야하고\n",
    "                    union.append((nx, ny)) # 연합에 넣어주고\n",
    "                    visited[nx][ny] = True # 방문처리\n",
    "\n",
    "    return union\n",
    "\n",
    "\n",
    "# 반복 수행\n",
    "day = 0\n",
    "while True:\n",
    "    move = False\n",
    "    visited = [[False] * n for _ in range(n)]\n",
    "    for i in range(n):\n",
    "        for j in range(n):\n",
    "            if not visited[i][j]:\n",
    "                union = bfs(board, i, j, visited)\n",
    "                # 연합이 생성되었으면\n",
    "                if len(union) > 1:\n",
    "                    # 오늘 인구이동 발생\n",
    "                    move = True\n",
    "                    # 인구이동\n",
    "                    new_people = sum([board[x][y] for x, y in union]) // len(union)\n",
    "                    for x, y in union:\n",
    "                        board[x][y] = new_people\n",
    "                        \n",
    "    # 인구이동 발생안하면 멈춤\n",
    "    if not move:\n",
    "        break\n",
    "    \n",
    "    day += 1\n",
    "\n",
    "print(day)"
   ]
  }
 ],
 "metadata": {
  "kernelspec": {
   "display_name": "base",
   "language": "python",
   "name": "python3"
  },
  "language_info": {
   "codemirror_mode": {
    "name": "ipython",
    "version": 3
   },
   "file_extension": ".py",
   "mimetype": "text/x-python",
   "name": "python",
   "nbconvert_exporter": "python",
   "pygments_lexer": "ipython3",
   "version": "3.9.12"
  },
  "orig_nbformat": 4
 },
 "nbformat": 4,
 "nbformat_minor": 2
}
