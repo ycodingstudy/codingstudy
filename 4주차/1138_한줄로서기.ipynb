{
 "cells": [
  {
   "cell_type": "code",
   "execution_count": null,
   "metadata": {},
   "outputs": [],
   "source": [
    "n = int(input())\n",
    "s = list(map(int, input().split()))\n",
    "a = [n]\n",
    "for i in range(n-1, 0, -1):\n",
    "    no = s[i-1]\n",
    "    \n",
    "    if no == 0:\n",
    "        a = [i] + a\n",
    "    else:\n",
    "        a = a[:no] + [i] + a[no:]\n",
    "for i in a:\n",
    "    print(i, end=' ')"
   ]
  }
 ],
 "metadata": {
  "kernelspec": {
   "display_name": "bigcon_env",
   "language": "python",
   "name": "python3"
  },
  "language_info": {
   "codemirror_mode": {
    "name": "ipython",
    "version": 3
   },
   "file_extension": ".py",
   "mimetype": "text/x-python",
   "name": "python",
   "nbconvert_exporter": "python",
   "pygments_lexer": "ipython3",
   "version": "3.10.6"
  },
  "orig_nbformat": 4
 },
 "nbformat": 4,
 "nbformat_minor": 2
}
