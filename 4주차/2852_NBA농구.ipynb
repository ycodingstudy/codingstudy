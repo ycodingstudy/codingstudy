{
 "cells": [
  {
   "cell_type": "code",
   "execution_count": 90,
   "metadata": {},
   "outputs": [
    {
     "name": "stdout",
     "output_type": "stream",
     "text": [
      "47:59\n",
      "00:00\n"
     ]
    }
   ],
   "source": [
    "n = int(input())\n",
    "\n",
    "s = []\n",
    "for i in range(n):\n",
    "    s.append(input().split())\n",
    "        \n",
    "tot_time = {'1': 0, '2': 0}\n",
    "tot_score  = {'1': 0, '2': 0}\n",
    "\n",
    "team, time = s[0]\n",
    "tot_score[team] += 1\n",
    "tot_time[team]\n",
    "old_time = int(time[:2]) * 60 + int(time[3:])\n",
    "\n",
    "if len(s) != 1:\n",
    "    for team, time in s[1:]:\n",
    "        tmp_time = int(time[:2]) * 60 + int(time[3:])\n",
    "        if tot_score['1'] != tot_score['2']:\n",
    "            winner = max(tot_score, key = tot_score.get)\n",
    "            tot_time[winner] += tmp_time - old_time\n",
    "\n",
    "        old_time = tmp_time\n",
    "\n",
    "        tot_score[team] += 1\n",
    "\n",
    "if tot_score['1'] != tot_score['2']:\n",
    "    winner = max(tot_score, key = tot_score.get)\n",
    "    tot_time[winner] += 48*60 - old_time\n",
    "\n",
    "print(str(tot_time['1']//60).zfill(2), ':', str(tot_time['1']%60).zfill(2), sep = '')\n",
    "print(str(tot_time['2']//60).zfill(2), ':', str(tot_time['2']%60).zfill(2), sep = '')"
   ]
  }
 ],
 "metadata": {
  "kernelspec": {
   "display_name": "bigcon_env",
   "language": "python",
   "name": "python3"
  },
  "language_info": {
   "codemirror_mode": {
    "name": "ipython",
    "version": 3
   },
   "file_extension": ".py",
   "mimetype": "text/x-python",
   "name": "python",
   "nbconvert_exporter": "python",
   "pygments_lexer": "ipython3",
   "version": "3.10.6"
  },
  "orig_nbformat": 4
 },
 "nbformat": 4,
 "nbformat_minor": 2
}
