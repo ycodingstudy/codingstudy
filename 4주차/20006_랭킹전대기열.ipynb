{
 "cells": [
  {
   "cell_type": "markdown",
   "metadata": {},
   "source": [
    "# 다른사람 풀이"
   ]
  },
  {
   "cell_type": "code",
   "execution_count": null,
   "metadata": {},
   "outputs": [],
   "source": [
    "p, m = map(int, input().split())\n",
    "room_list = list()\n",
    "\n",
    "for _ in range(p) :\n",
    "  l, n = input().split()\n",
    "  l = int(l)\n",
    "  flg = False\n",
    "  for _room_list in room_list :\n",
    "    if len(_room_list) < m and abs(l - _room_list[0][0]) <= 10 :\n",
    "      _room_list.append((l, n))\n",
    "      flg = True\n",
    "      break\n",
    "  if not flg :\n",
    "    room_list.append([(l, n)])\n",
    "\n",
    "for _room_list in room_list :\n",
    "  print('Started!' if len(_room_list) == m else 'Waiting!')\n",
    "  _room_list.sort(key = lambda x : x[-1])\n",
    "  for l, n in _room_list :\n",
    "    print(l, n)"
   ]
  },
  {
   "cell_type": "markdown",
   "metadata": {},
   "source": [
    "처음 풀 때 if else 조건문을 잘못짜서 틀린 것 같다.. 굳이 복잡하게 짤 필요가 없었다. 그리고 같은 방에서는 닉네임 순으로 출력인데 그걸 놓쳐부렸다,, 다시 풀어보자,,"
   ]
  },
  {
   "cell_type": "code",
   "execution_count": 5,
   "metadata": {},
   "outputs": [],
   "source": [
    "# 값 받아오기\n",
    "p, m = map(int, input().split())\n",
    "room_list = list()\n",
    "waiting = []\n",
    "for _ in range(p):\n",
    "    waiting.append(input().split())\n",
    "\n",
    "for level, nm in waiting: # 대기열에 있는 사람 한명씩 방에 넣자\n",
    "    flag = False # 방에 들어갔는지 판단용\n",
    "    for room in room_list: # 모든 방 리스트를 차례대로 순회하자\n",
    "        if len(room) < m and abs(int(room[0][0]) - int(level)) <= 10: # 방에 들어가기 위한 조건문\n",
    "            room.append((level, nm)) # 방에 넣자\n",
    "            flag = True # 방에 넣었으니까 True로 변경\n",
    "            break # 루프 멈추자\n",
    "    if not flag: # 위의 반복문에서 방에 못들어갔으면\n",
    "        room_list.append([(level, nm)]) # 방리스트에 새로운 방을 추가하자\n",
    "\n",
    "for room in room_list:\n",
    "    if len(room) == m:\n",
    "        print('Started!')\n",
    "    else:\n",
    "        print('Waiting!')\n",
    "    room.sort(key= lambda x: x[1]) # 닉네임 순으로 출력\n",
    "    for level, nm in room:\n",
    "        print(level, nm)"
   ]
  }
 ],
 "metadata": {
  "kernelspec": {
   "display_name": "bigcon_env",
   "language": "python",
   "name": "python3"
  },
  "language_info": {
   "codemirror_mode": {
    "name": "ipython",
    "version": 3
   },
   "file_extension": ".py",
   "mimetype": "text/x-python",
   "name": "python",
   "nbconvert_exporter": "python",
   "pygments_lexer": "ipython3",
   "version": "3.10.6"
  },
  "orig_nbformat": 4
 },
 "nbformat": 4,
 "nbformat_minor": 2
}
