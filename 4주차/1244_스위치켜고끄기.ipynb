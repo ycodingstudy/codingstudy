{
 "cells": [
  {
   "cell_type": "code",
   "execution_count": null,
   "metadata": {},
   "outputs": [],
   "source": [
    "n = int(input())\n",
    "switch = list(map(int, input().split()))\n",
    "student = int(input())\n",
    "sex_num = []\n",
    "for i in range(student):\n",
    "    sex_num.append(input().split())\n",
    "    \n",
    "for i in range(student):\n",
    "    if sex_num[i][0] == '1': # 남학생인 경우\n",
    "        for j in range(n):\n",
    "            if (j + 1) % int(sex_num[i][1]) == 0:\n",
    "                switch[j] = abs(switch[j] - 1)\n",
    "    else: # 여학생인 경우\n",
    "        stu_idx = int(sex_num[i][1]) - 1\n",
    "        k = 0\n",
    "        while k <= stu_idx < n - k: # stu_idx - k >= 0 and stu_idx + k < n \n",
    "            if switch[stu_idx - k] != switch[stu_idx + k]:\n",
    "                break\n",
    "            k += 1\n",
    "            \n",
    "        for m in range(k):\n",
    "            switch[stu_idx - m] = abs(switch[stu_idx - m] - 1)\n",
    "            switch[stu_idx + m] = abs(switch[stu_idx + m] - 1)\n",
    "        switch[stu_idx] = abs(switch[stu_idx] - 1)\n",
    "\n",
    "for i in range(n):\n",
    "    if (i + 1) % 20:\n",
    "        print(switch[i], end = ' ')\n",
    "    else:\n",
    "        print(switch[i], end = '\\n')"
   ]
  }
 ],
 "metadata": {
  "kernelspec": {
   "display_name": "bigcon_env",
   "language": "python",
   "name": "python3"
  },
  "language_info": {
   "codemirror_mode": {
    "name": "ipython",
    "version": 3
   },
   "file_extension": ".py",
   "mimetype": "text/x-python",
   "name": "python",
   "nbconvert_exporter": "python",
   "pygments_lexer": "ipython3",
   "version": "3.10.6"
  },
  "orig_nbformat": 4
 },
 "nbformat": 4,
 "nbformat_minor": 2
}
