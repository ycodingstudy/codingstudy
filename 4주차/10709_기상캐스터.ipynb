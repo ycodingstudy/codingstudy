{
 "cells": [
  {
   "cell_type": "markdown",
   "metadata": {},
   "source": [
    "# 풀이"
   ]
  },
  {
   "cell_type": "code",
   "execution_count": 35,
   "metadata": {},
   "outputs": [
    {
     "name": "stdout",
     "output_type": "stream",
     "text": [
      "0 1 2 0\n",
      "-1 -1 0 1\n",
      "-1 -1 -1 -1\n"
     ]
    }
   ],
   "source": [
    "h, w = map(int, input().split())\n",
    "\n",
    "cloud = []\n",
    "for i in range(h):\n",
    "    cloud.append(list(input()))\n",
    "    \n",
    "array = [['-1' for _ in range(w)] for _ in range(h)]\n",
    "\n",
    "for i, iv in enumerate(cloud):\n",
    "    for j, jv in enumerate(iv):\n",
    "        k = j\n",
    "        if jv == 'c':\n",
    "            # array[i][j] = 0\n",
    "            min = 0\n",
    "            while k < w:\n",
    "                array[i][k] = str(min)\n",
    "                min += 1\n",
    "                k += 1\n",
    "\n",
    "for i in array:\n",
    "    print(' '.join(i))"
   ]
  },
  {
   "cell_type": "markdown",
   "metadata": {},
   "source": [
    "# 다른사람 풀이\n",
    "쏘굳,,"
   ]
  },
  {
   "cell_type": "code",
   "execution_count": null,
   "metadata": {},
   "outputs": [],
   "source": [
    "import sys\n",
    "\n",
    "readline = sys.stdin.readline\n",
    "\n",
    "H, W = map(int, readline().strip().split())\n",
    "\n",
    "LINES = [readline().strip() for _ in range(H)]\n",
    "\n",
    "for i in range(H):\n",
    "    prev = -1\n",
    "    for j in range(W):\n",
    "        if LINES[i][j] == \"c\":\n",
    "            print(0, end=\" \")\n",
    "            prev = j\n",
    "        elif prev > -1:\n",
    "            print(j - prev, end=\" \")\n",
    "        else:\n",
    "            print(-1, end=\" \")\n",
    "    print()\n"
   ]
  }
 ],
 "metadata": {
  "kernelspec": {
   "display_name": "bigcon_env",
   "language": "python",
   "name": "python3"
  },
  "language_info": {
   "codemirror_mode": {
    "name": "ipython",
    "version": 3
   },
   "file_extension": ".py",
   "mimetype": "text/x-python",
   "name": "python",
   "nbconvert_exporter": "python",
   "pygments_lexer": "ipython3",
   "version": "3.10.6"
  },
  "orig_nbformat": 4
 },
 "nbformat": 4,
 "nbformat_minor": 2
}
