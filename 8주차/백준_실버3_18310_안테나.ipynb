{
 "cells": [
  {
   "cell_type": "markdown",
   "metadata": {},
   "source": [
    "https://www.acmicpc.net/problem/18310"
   ]
  },
  {
   "cell_type": "markdown",
   "metadata": {},
   "source": [
    "정렬해서 인접한 집끼리 거리를 구한 후, 양쪽 거리 누적합이 최대한 비슷해지는 집에 안테나 설치  \n",
    "-> 근데 그냥 가운데집에 설치하면 될듯??"
   ]
  },
  {
   "cell_type": "code",
   "execution_count": 17,
   "metadata": {},
   "outputs": [
    {
     "name": "stdout",
     "output_type": "stream",
     "text": [
      "5\n"
     ]
    }
   ],
   "source": [
    "sys_stdin = open('C:/Users/jiyeon/Desktop/baekjoon.txt', 'r')\n",
    "\n",
    "# 값 입력\n",
    "n = int(sys_stdin.readline())\n",
    "array = list(map(int, sys_stdin.readline().split()))\n",
    "\n",
    "# 중앙값 이용\n",
    "array.sort()\n",
    "if n % 2:\n",
    "    idx = n//2\n",
    "else:\n",
    "    idx = n//2 - 1\n",
    "print(array[idx])\n",
    "\n",
    "# (n-1)//2 하면 한방이네,,"
   ]
  }
 ],
 "metadata": {
  "kernelspec": {
   "display_name": "base",
   "language": "python",
   "name": "python3"
  },
  "language_info": {
   "codemirror_mode": {
    "name": "ipython",
    "version": 3
   },
   "file_extension": ".py",
   "mimetype": "text/x-python",
   "name": "python",
   "nbconvert_exporter": "python",
   "pygments_lexer": "ipython3",
   "version": "3.9.12"
  },
  "orig_nbformat": 4
 },
 "nbformat": 4,
 "nbformat_minor": 2
}
