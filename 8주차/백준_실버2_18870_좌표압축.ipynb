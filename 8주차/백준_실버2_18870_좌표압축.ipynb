{
 "cells": [
  {
   "cell_type": "markdown",
   "metadata": {},
   "source": [
    "https://www.acmicpc.net/problem/18870"
   ]
  },
  {
   "cell_type": "code",
   "execution_count": 32,
   "metadata": {},
   "outputs": [
    {
     "name": "stdout",
     "output_type": "stream",
     "text": [
      "2 3 0 3 1\n"
     ]
    }
   ],
   "source": [
    "import copy\n",
    "import heapq\n",
    "\n",
    "sys_stdin = open('C:/Users/jiyeon/Desktop/baekjoon.txt', 'r')\n",
    "\n",
    "# 값 입력\n",
    "n = int(sys_stdin.readline())\n",
    "array = list(map(int, sys_stdin.readline().split()))\n",
    "\n",
    "# 출력용\n",
    "array2 = copy.deepcopy(array)\n",
    "\n",
    "# 압축값 저장용. 인덱싱 빨리 하려고 딕셔너리 사용\n",
    "dic = dict(zip(array, [0] * n))\n",
    "\n",
    "# 최소값부터 출력하여 개수 합산하는 방식\n",
    "heapq.heapify(array)\n",
    "old = heapq.heappop(array)\n",
    "cnt = 0\n",
    "while array:\n",
    "    tmp = heapq.heappop(array)\n",
    "    if tmp != old:\n",
    "        cnt += 1\n",
    "        dic[tmp] = cnt        \n",
    "    old = tmp\n",
    "\n",
    "# 출력\n",
    "print(*[dic[i] for i in array2])"
   ]
  },
  {
   "cell_type": "markdown",
   "metadata": {},
   "source": [
    "# 다른 사람 풀이\n",
    "그치 결국 오름차정렬한 인덱스 번호가 압축값이지,,"
   ]
  },
  {
   "cell_type": "code",
   "execution_count": 1,
   "metadata": {},
   "outputs": [
    {
     "name": "stdout",
     "output_type": "stream",
     "text": [
      "2 3 0 3 1\n"
     ]
    }
   ],
   "source": [
    "sys_stdin = open('C:/Users/jiyeon/Desktop/baekjoon.txt', 'r')\n",
    "# input\n",
    "sys_stdin.readline()\n",
    "X_list = list(map(int, sys_stdin.readline().split()))\n",
    "\n",
    "#sort\n",
    "X_dict = {ele: idx for idx, ele in enumerate(sorted(set(X_list)))}\n",
    "\n",
    "#output\n",
    "print(' '.join(map(str, [X_dict[ele] for ele in X_list])))"
   ]
  },
  {
   "cell_type": "code",
   "execution_count": 7,
   "metadata": {},
   "outputs": [
    {
     "name": "stdout",
     "output_type": "stream",
     "text": [
      "[2, 4, -10, 4, -9]\n",
      "[-10, -9, 2, 4]\n",
      "[(0, -10), (1, -9), (2, 2), (3, 4)]\n",
      "{-10: 0, -9: 1, 2: 2, 4: 3}\n"
     ]
    }
   ],
   "source": [
    "print(X_list)\n",
    "print(sorted(set(X_list)))\n",
    "print(list(enumerate(sorted(set(X_list)))))\n",
    "print(X_dict)"
   ]
  }
 ],
 "metadata": {
  "kernelspec": {
   "display_name": "base",
   "language": "python",
   "name": "python3"
  },
  "language_info": {
   "codemirror_mode": {
    "name": "ipython",
    "version": 3
   },
   "file_extension": ".py",
   "mimetype": "text/x-python",
   "name": "python",
   "nbconvert_exporter": "python",
   "pygments_lexer": "ipython3",
   "version": "3.10.6"
  },
  "orig_nbformat": 4
 },
 "nbformat": 4,
 "nbformat_minor": 2
}
