{
 "cells": [
  {
   "cell_type": "markdown",
   "metadata": {},
   "source": [
    "https://school.programmers.co.kr/learn/courses/30/lessons/42889"
   ]
  },
  {
   "cell_type": "markdown",
   "metadata": {},
   "source": [
    "스테이지마다 실패율 계산해서 저장해두고 내림차로 출력하자  \n",
    "* 실패율 저장할 리스트"
   ]
  },
  {
   "cell_type": "code",
   "execution_count": 36,
   "metadata": {},
   "outputs": [],
   "source": [
    "def solution(N, stages):\n",
    "    stages.sort()\n",
    "\n",
    "    # 실패율 저장할 리스트\n",
    "    array = [0] * (N+1)\n",
    "\n",
    "    length = len(stages)\n",
    "    idx = 0 # 현재 스테이지 표시용\n",
    "\n",
    "    # 각 스테이지에 대해 실패율 계산\n",
    "    for i in range(0, N+1):\n",
    "        # 실패한 사람 수\n",
    "        fail = 0\n",
    "\n",
    "        # 남은 실패 스테이지가 없으면 break\n",
    "        if len(stages[idx:]) == 0:\n",
    "            break\n",
    "\n",
    "        # 현재 스테이지에 대해\n",
    "        for j in stages[idx:]:\n",
    "            if j == i:\n",
    "                fail += 1\n",
    "            elif j > i:\n",
    "                break\n",
    "        \n",
    "        array[i] = fail / length # 실패율\n",
    "        length -= fail # 다음 스테이지 도전한 사람 수\n",
    "        idx += fail # 다음 스테이지 인덱스\n",
    "        \n",
    "    return sorted([i for i in range(1, N+1)], key = lambda x: (-array[x], x))"
   ]
  }
 ],
 "metadata": {
  "kernelspec": {
   "display_name": "base",
   "language": "python",
   "name": "python3"
  },
  "language_info": {
   "codemirror_mode": {
    "name": "ipython",
    "version": 3
   },
   "file_extension": ".py",
   "mimetype": "text/x-python",
   "name": "python",
   "nbconvert_exporter": "python",
   "pygments_lexer": "ipython3",
   "version": "3.9.12"
  },
  "orig_nbformat": 4
 },
 "nbformat": 4,
 "nbformat_minor": 2
}
