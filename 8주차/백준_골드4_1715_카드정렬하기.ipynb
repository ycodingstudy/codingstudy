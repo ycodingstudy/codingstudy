{
 "cells": [
  {
   "cell_type": "markdown",
   "metadata": {},
   "source": [
    "https://www.acmicpc.net/problem/1715"
   ]
  },
  {
   "cell_type": "markdown",
   "metadata": {},
   "source": [
    "시간초과나서 헛짓 여러번함,,"
   ]
  },
  {
   "cell_type": "code",
   "execution_count": 53,
   "metadata": {},
   "outputs": [
    {
     "name": "stdout",
     "output_type": "stream",
     "text": [
      "[10, 10, 10, 10, 10, 10, 10, 10, 10, 10]\n",
      "20\n",
      "[10, 10, 10, 10, 10, 10, 10, 10, 20]\n",
      "40\n",
      "[10, 10, 10, 10, 10, 10, 20, 20]\n",
      "60\n",
      "[10, 10, 20, 10, 10, 20, 20]\n",
      "80\n",
      "[10, 10, 20, 20, 20, 20]\n",
      "100\n",
      "[20, 20, 20, 20, 20]\n",
      "140\n",
      "[20, 20, 20, 40]\n",
      "180\n",
      "[20, 40, 40]\n",
      "240\n",
      "[40, 60]\n",
      "340\n",
      "340\n"
     ]
    }
   ],
   "source": [
    "import sys\n",
    "import heapq\n",
    "sys_stdin = open('C:/Users/jiyeon/Desktop/baekjoon.txt', 'r')\n",
    "\n",
    "n = int(sys_stdin.readline())\n",
    "array = []\n",
    "for _ in range(n):\n",
    "    array.append(int(sys_stdin.readline()))\n",
    "\n",
    "if n == 1:\n",
    "    print(0)\n",
    "else:\n",
    "    heapq.heapify(array)\n",
    "    total = 0\n",
    "    while True:\n",
    "        print(array)\n",
    "        a = heapq.heappop(array)\n",
    "        b = heapq.heappop(array)\n",
    "\n",
    "        total += a+b\n",
    "        heapq.heappush(array, a+b)\n",
    "\n",
    "        print(total)\n",
    "        if len(array) == 1:\n",
    "            break\n",
    "    print(total)"
   ]
  }
 ],
 "metadata": {
  "kernelspec": {
   "display_name": "base",
   "language": "python",
   "name": "python3"
  },
  "language_info": {
   "codemirror_mode": {
    "name": "ipython",
    "version": 3
   },
   "file_extension": ".py",
   "mimetype": "text/x-python",
   "name": "python",
   "nbconvert_exporter": "python",
   "pygments_lexer": "ipython3",
   "version": "3.9.12"
  },
  "orig_nbformat": 4
 },
 "nbformat": 4,
 "nbformat_minor": 2
}
