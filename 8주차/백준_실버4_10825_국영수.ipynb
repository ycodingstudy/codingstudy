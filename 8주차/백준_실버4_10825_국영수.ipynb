{
 "cells": [
  {
   "cell_type": "markdown",
   "metadata": {},
   "source": [
    "https://www.acmicpc.net/problem/10825"
   ]
  },
  {
   "cell_type": "code",
   "execution_count": 5,
   "metadata": {},
   "outputs": [
    {
     "name": "stdout",
     "output_type": "stream",
     "text": [
      "[[-80, 60, -100, 'Donghyuk'], [-80, 60, -50, 'Sangkeun'], [-80, 70, -100, 'Sunyoung'], [-80, 80, -80, 'nsj'], [-70, 70, -90, 'Wonseob'], [-70, 70, -80, 'Sanghyun'], [-70, 70, -70, 'Sei'], [-60, 80, -100, 'Kangsoo'], [-50, 60, -100, 'Haebin'], [-50, 60, -100, 'Junkyu'], [-50, 60, -90, 'Soong'], [-50, 60, -90, 'Taewhan']]\n",
      "Donghyuk\n",
      "Sangkeun\n",
      "Sunyoung\n",
      "nsj\n",
      "Wonseob\n",
      "Sanghyun\n",
      "Sei\n",
      "Kangsoo\n",
      "Haebin\n",
      "Junkyu\n",
      "Soong\n",
      "Taewhan\n"
     ]
    }
   ],
   "source": [
    "sys_stdin = open('C:/Users/jiyeon/Desktop/baekjoon.txt', 'r')\n",
    "\n",
    "# 값 입력\n",
    "n = int(sys_stdin.readline())\n",
    "array = []\n",
    "\n",
    "# 1트: 일단 입력값 받고 지시대로 정렬하기\n",
    "# for _ in range(n):\n",
    "#     name, k, e, m = sys_stdin.readline().split()\n",
    "#     k, e, m = map(int, [k, e, m])\n",
    "#     array.append([name, k, e, m])\n",
    "# array.sort(key = lambda x: (-x[1], x[2], -x[3], x[0]))\n",
    "\n",
    "# 재시도: 제출 후 정답 봄 그냥 sort()가 순서대로 알아서 해주는구나,,\n",
    "for _ in range(n):\n",
    "    name, k, e, m = sys_stdin.readline().split()\n",
    "    k, e, m = map(int, [k, e, m])\n",
    "    array.append([-k, e, -m, name])\n",
    "array.sort()\n",
    "print(array)\n",
    "\n",
    "# 출력\n",
    "# for x in array:\n",
    "#     print(x[0])\n",
    "print(*[x[3] for x in array], sep = '\\n')"
   ]
  }
 ],
 "metadata": {
  "kernelspec": {
   "display_name": "base",
   "language": "python",
   "name": "python3"
  },
  "language_info": {
   "codemirror_mode": {
    "name": "ipython",
    "version": 3
   },
   "file_extension": ".py",
   "mimetype": "text/x-python",
   "name": "python",
   "nbconvert_exporter": "python",
   "pygments_lexer": "ipython3",
   "version": "3.9.12"
  },
  "orig_nbformat": 4
 },
 "nbformat": 4,
 "nbformat_minor": 2
}
