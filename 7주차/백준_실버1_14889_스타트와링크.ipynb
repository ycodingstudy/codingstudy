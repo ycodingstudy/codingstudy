{
 "cells": [
  {
   "cell_type": "markdown",
   "metadata": {},
   "source": [
    "https://www.acmicpc.net/problem/14889"
   ]
  },
  {
   "cell_type": "markdown",
   "metadata": {},
   "source": [
    "백트래킹..이해못했어..... 걍 조합으로 풀어보자...... "
   ]
  },
  {
   "cell_type": "code",
   "execution_count": null,
   "metadata": {},
   "outputs": [],
   "source": [
    "import sys\n",
    "from itertools import combinations\n",
    "\n",
    "# 값 입력\n",
    "n = int(sys.stdin.readline())\n",
    "board = []\n",
    "for _ in range(n):\n",
    "    board.append(list(map(int, sys.stdin.readline().split())))\n",
    "\n",
    "# 가능한 조합 리스트\n",
    "people = [i for i in range(n)]\n",
    "combs = list(combinations(people, int(n/2)))\n",
    "\n",
    "# 결과값 체크용\n",
    "result = 1e5\n",
    "\n",
    "for a in combs:\n",
    "    b = set(people) - set(a)\n",
    "\n",
    "    a_combs = list(combinations(a, 2))\n",
    "    a_sum = 0 \n",
    "    for i, j in a_combs:\n",
    "        a_sum += board[i][j] + board[j][i]\n",
    "\n",
    "    b_combs = list(combinations(b, 2))\n",
    "    b_sum = 0 \n",
    "    for i, j in b_combs:\n",
    "        b_sum += board[i][j] + board[j][i]\n",
    "\n",
    "    result = min(result, abs(a_sum - b_sum))\n",
    "\n",
    "print(result)"
   ]
  }
 ],
 "metadata": {
  "kernelspec": {
   "display_name": "base",
   "language": "python",
   "name": "python3"
  },
  "language_info": {
   "codemirror_mode": {
    "name": "ipython",
    "version": 3
   },
   "file_extension": ".py",
   "mimetype": "text/x-python",
   "name": "python",
   "nbconvert_exporter": "python",
   "pygments_lexer": "ipython3",
   "version": "3.9.12"
  },
  "orig_nbformat": 4
 },
 "nbformat": 4,
 "nbformat_minor": 2
}
