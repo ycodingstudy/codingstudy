{
 "cells": [
  {
   "cell_type": "markdown",
   "metadata": {},
   "source": [
    "https://www.acmicpc.net/problem/1914"
   ]
  },
  {
   "cell_type": "code",
   "execution_count": 14,
   "metadata": {},
   "outputs": [
    {
     "name": "stdout",
     "output_type": "stream",
     "text": [
      "2097151\n"
     ]
    }
   ],
   "source": [
    "def move(n, start, end):\n",
    "\n",
    "    print(start, end)\n",
    "\n",
    "def hanoi(n, start, end, sub):\n",
    "    if n == 1:\n",
    "        move(1, start, end)\n",
    "        return\n",
    "    else:\n",
    "        hanoi(n-1, start, sub, end)\n",
    "        move(n, start, end)\n",
    "        hanoi(n-1, sub, end, start)\n",
    "\n",
    "n = int(input())\n",
    "print(2**n - 1)\n",
    "if n <= 20:\n",
    "    hanoi(n, \"1\", \"3\", \"2\")"
   ]
  },
  {
   "cell_type": "markdown",
   "metadata": {},
   "source": [
    "https://mgyo.tistory.com/185"
   ]
  }
 ],
 "metadata": {
  "kernelspec": {
   "display_name": "base",
   "language": "python",
   "name": "python3"
  },
  "language_info": {
   "codemirror_mode": {
    "name": "ipython",
    "version": 3
   },
   "file_extension": ".py",
   "mimetype": "text/x-python",
   "name": "python",
   "nbconvert_exporter": "python",
   "pygments_lexer": "ipython3",
   "version": "3.9.12"
  },
  "orig_nbformat": 4
 },
 "nbformat": 4,
 "nbformat_minor": 2
}
