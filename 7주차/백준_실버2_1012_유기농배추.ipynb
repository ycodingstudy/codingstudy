{
 "cells": [
  {
   "cell_type": "markdown",
   "metadata": {},
   "source": [
    "https://www.acmicpc.net/problem/1012"
   ]
  },
  {
   "cell_type": "markdown",
   "metadata": {},
   "source": [
    "구현해야할 것\n",
    "1. 테케 처리하는 반복문\n",
    "2. 배추벌레 세는 bfs 함수\n"
   ]
  },
  {
   "cell_type": "code",
   "execution_count": 15,
   "metadata": {},
   "outputs": [
    {
     "data": {
      "text/plain": [
       "2"
      ]
     },
     "execution_count": 15,
     "metadata": {},
     "output_type": "execute_result"
    }
   ],
   "source": [
    "t"
   ]
  },
  {
   "cell_type": "code",
   "execution_count": 19,
   "metadata": {},
   "outputs": [
    {
     "name": "stdout",
     "output_type": "stream",
     "text": [
      "6\n"
     ]
    }
   ],
   "source": [
    "import sys\n",
    "from collections import deque\n",
    "\n",
    "# 방향이동\n",
    "dx = [1, -1, 0, 0]\n",
    "dy = [0, 0, 1, -1]\n",
    "\n",
    "# bfs\n",
    "def bfs(board, x, y, visited):\n",
    "    queue = deque()\n",
    "    queue.append((x,y))\n",
    "    visited[x][y] = True\n",
    "\n",
    "    while queue:\n",
    "        vx, vy = queue.popleft()\n",
    "        for k in range(4):\n",
    "            nx = vx + dx[k]\n",
    "            ny = vy + dy[k]\n",
    "            if 0 <= nx < m and 0 <= ny < n:\n",
    "                if board[nx][ny] == 1 and not visited[nx][ny]:\n",
    "                    visited[nx][ny] = True\n",
    "                    queue.append((nx,ny))\n",
    "\n",
    "\n",
    "# 값 입력하기\n",
    "sys_stdin = open('C:/Users/jiyeon/Desktop/baekjoon.txt', 'r')\n",
    "t = int(sys_stdin.readline())\n",
    "\n",
    "for _ in range(t):\n",
    "    # 테케 입력\n",
    "    m, n, k = map(int, sys_stdin.readline().split())\n",
    "    board = [[0] * n for _ in range(m)]\n",
    "    for _ in range(k):\n",
    "        x, y = map(int, sys_stdin.readline().split())\n",
    "        board[x][y] = 1\n",
    "\n",
    "    # 방문여부\n",
    "    visited = [[False] * n for _ in range(m)]\n",
    "\n",
    "    # 벌레 카운트\n",
    "    cnt = 0\n",
    "    for i in range(m):\n",
    "        for j in range(n):\n",
    "            if board[i][j] == 1 and not visited[i][j]:\n",
    "                bfs(board, i, j, visited)\n",
    "                cnt += 1\n",
    "    # 출력\n",
    "    print(cnt)"
   ]
  },
  {
   "cell_type": "code",
   "execution_count": 26,
   "metadata": {},
   "outputs": [
    {
     "name": "stdout",
     "output_type": "stream",
     "text": [
      "2\n"
     ]
    }
   ],
   "source": [
    "# visited 리스트 없애고 그냥 board[][] = 0 처리\n",
    "\n",
    "\n",
    "from collections import deque\n",
    "\n",
    "# 방향이동\n",
    "dx = [1, -1, 0, 0]\n",
    "dy = [0, 0, 1, -1]\n",
    "\n",
    "# bfs\n",
    "def bfs(board, x, y):\n",
    "    queue = deque()\n",
    "    queue.append((x,y))\n",
    "    board[x][y] = 0\n",
    "\n",
    "    while queue:\n",
    "        vx, vy = queue.popleft()\n",
    "        for k in range(4):\n",
    "            nx = vx + dx[k]\n",
    "            ny = vy + dy[k]\n",
    "            if 0 <= nx < m and 0 <= ny < n:\n",
    "                if board[nx][ny] == 1:\n",
    "                    board[nx][ny] = 0\n",
    "                    queue.append((nx,ny))\n",
    "\n",
    "\n",
    "# 값 입력하기\n",
    "sys_stdin = open('C:/Users/jiyeon/Desktop/baekjoon.txt', 'r')\n",
    "t = int(sys_stdin.readline())\n",
    "\n",
    "for _ in range(t):\n",
    "    # 테케 입력\n",
    "    m, n, k = map(int, sys_stdin.readline().split())\n",
    "    board = [[0] * n for _ in range(m)]\n",
    "    for _ in range(k):\n",
    "        x, y = map(int, sys_stdin.readline().split())\n",
    "        board[x][y] = 1\n",
    "\n",
    "    # 벌레 카운트\n",
    "    cnt = 0\n",
    "    for i in range(m):\n",
    "        for j in range(n):\n",
    "            if board[i][j] == 1:\n",
    "                bfs(board, i, j)\n",
    "                cnt += 1\n",
    "    # 출력\n",
    "    print(cnt)"
   ]
  }
 ],
 "metadata": {
  "kernelspec": {
   "display_name": "base",
   "language": "python",
   "name": "python3"
  },
  "language_info": {
   "codemirror_mode": {
    "name": "ipython",
    "version": 3
   },
   "file_extension": ".py",
   "mimetype": "text/x-python",
   "name": "python",
   "nbconvert_exporter": "python",
   "pygments_lexer": "ipython3",
   "version": "3.9.12"
  },
  "orig_nbformat": 4
 },
 "nbformat": 4,
 "nbformat_minor": 2
}
