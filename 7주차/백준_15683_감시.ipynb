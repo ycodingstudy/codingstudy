{
 "cells": [
  {
   "cell_type": "markdown",
   "metadata": {},
   "source": [
    "https://www.acmicpc.net/problem/15683"
   ]
  },
  {
   "cell_type": "markdown",
   "metadata": {},
   "source": [
    "못품,,, 이해를 잘못한 것 같은디,,"
   ]
  },
  {
   "cell_type": "code",
   "execution_count": 21,
   "metadata": {},
   "outputs": [
    {
     "name": "stdout",
     "output_type": "stream",
     "text": [
      "4 6\n",
      "[0, 0, 0, 0, 0, 0]\n",
      "[0, 0, 0, 0, 0, 0]\n",
      "[0, 0, 1, 0, 6, 0]\n",
      "[0, 0, 0, 0, 0, 0]\n"
     ]
    }
   ],
   "source": [
    "sys_stdin = open('C:/Users/jiyeon/Desktop/baekjoon.txt', 'r')\n",
    "\n",
    "# 값 입력\n",
    "n, m = map(int, sys_stdin.readline().split())\n",
    "board = []\n",
    "for _ in range(n):\n",
    "    board.append(list(map(int, sys_stdin.readline().split())))\n",
    "print(n, m)\n",
    "\n",
    "for i in board:\n",
    "    print(i)"
   ]
  },
  {
   "cell_type": "code",
   "execution_count": 24,
   "metadata": {},
   "outputs": [
    {
     "name": "stdout",
     "output_type": "stream",
     "text": [
      "detect\n",
      "[0, 0, 9, 0, 0, 0]\n",
      "[0, 0, 9, 0, 0, 0]\n",
      "[9, 9, 1, 9, 6, 0]\n",
      "[0, 0, 9, 0, 0, 0]\n"
     ]
    }
   ],
   "source": [
    "dx = [1, -1, 0, 0]\n",
    "dy = [0, 0, 1, -1]\n",
    "\n",
    "\n",
    "def detect_x(x, y):\n",
    "    for k in [1, -1]:\n",
    "        while True:\n",
    "            x += k\n",
    "            if 0 <= x < n:\n",
    "                if board[x][y] == 6:\n",
    "                    break\n",
    "                if board[x][y] == 0:\n",
    "                    board[x][y] = 9\n",
    "            else:\n",
    "                break\n",
    "def detect_y(x, y):\n",
    "    for k in [1, -1]:\n",
    "        while True:\n",
    "            y += k\n",
    "            if 0 <= y < m:\n",
    "                if board[x][y] == 6:\n",
    "                    break\n",
    "                if board[x][y] == 0:\n",
    "                    board[x][y] = 9\n",
    "            else:\n",
    "                break\n",
    "\n",
    "\n",
    "for i in range(n):\n",
    "    for j in range(m):\n",
    "        if board[i][j] in [1, 2, 3, 4, 5]:\n",
    "            print('detect')\n",
    "            detect_x(i, j)\n",
    "            detect_y(i, j)\n",
    "for i in board:\n",
    "    print(i)"
   ]
  }
 ],
 "metadata": {
  "kernelspec": {
   "display_name": "base",
   "language": "python",
   "name": "python3"
  },
  "language_info": {
   "codemirror_mode": {
    "name": "ipython",
    "version": 3
   },
   "file_extension": ".py",
   "mimetype": "text/x-python",
   "name": "python",
   "nbconvert_exporter": "python",
   "pygments_lexer": "ipython3",
   "version": "3.9.12"
  },
  "orig_nbformat": 4
 },
 "nbformat": 4,
 "nbformat_minor": 2
}
