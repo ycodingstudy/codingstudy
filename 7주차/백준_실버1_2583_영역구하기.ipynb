{
 "cells": [
  {
   "cell_type": "markdown",
   "metadata": {},
   "source": [
    "https://www.acmicpc.net/problem/2583"
   ]
  },
  {
   "cell_type": "markdown",
   "metadata": {},
   "source": [
    "구현 순서\n",
    "1. 보드에 직사각형 1로 채우기\n",
    "2. bfs로 0인 영역 뭉탱이 몇 개인지 세기  \n",
    "    방문처리는 0을 1로 바꾸는걸로"
   ]
  },
  {
   "cell_type": "code",
   "execution_count": 11,
   "metadata": {},
   "outputs": [
    {
     "name": "stdout",
     "output_type": "stream",
     "text": [
      "[0, 1, 0, 0, 0, 0, 0]\n",
      "[1, 1, 1, 1, 0, 0, 0]\n",
      "[1, 1, 1, 1, 0, 0, 0]\n",
      "[0, 1, 0, 0, 1, 1, 0]\n",
      "[0, 0, 0, 0, 1, 1, 0]\n",
      "3\n",
      "1 7 13\n"
     ]
    }
   ],
   "source": [
    "from collections import deque\n",
    "sys_stdin = open('C:/Users/jiyeon/Desktop/baekjoon.txt', 'r')\n",
    "\n",
    "# 값 입력\n",
    "m, n, k = map(int, sys_stdin.readline().split())\n",
    "board = [[0] * n for _ in range(m)]\n",
    "for _ in range(k):\n",
    "    ax, ay, bx, by = map(int, sys_stdin.readline().split())\n",
    "    for i in range(ax, bx):\n",
    "        for j in range(ay, by):\n",
    "            board[m-1-j][i] = 1\n",
    "\n",
    "for i in board:\n",
    "    print(i)\n",
    "\n",
    "# 방향 이동\n",
    "dx = [1, -1, 0, 0]\n",
    "dy = [0, 0, 1, -1]\n",
    "\n",
    "# bfs 함수\n",
    "def bfs(board, x, y):\n",
    "    queue = deque()\n",
    "    queue.append((x,y))\n",
    "    # 방문처리\n",
    "    board[x][y] = 1\n",
    "    # 영역 넓이\n",
    "    area = 1\n",
    "\n",
    "    # 0으로 연결된 영역에 대해\n",
    "    while queue:\n",
    "        vx, vy = queue.popleft()\n",
    "        for kk in range(4):\n",
    "            nx = vx + dx[kk]\n",
    "            ny = vy + dy[kk]\n",
    "            if 0 <= nx < m and 0 <= ny < n:\n",
    "                if board[nx][ny] == 0: # not visited\n",
    "                    board[nx][ny] = 1 # -> visited\n",
    "                    queue.append((nx, ny))\n",
    "                    area += 1\n",
    "    \n",
    "    return area\n",
    "\n",
    "\n",
    "# 전체 보드에 대해 bfs 수행\n",
    "area_list = [] # 영역별 넓이 저장\n",
    "for i in range(m):\n",
    "    for j in range(n):\n",
    "        if board[i][j] == 0:\n",
    "            area = bfs(board, i, j)\n",
    "            area_list.append(area)\n",
    "\n",
    "# 오름차순으로 출력\n",
    "area_list.sort()\n",
    "print(len(area_list))\n",
    "print(*area_list)"
   ]
  }
 ],
 "metadata": {
  "kernelspec": {
   "display_name": "base",
   "language": "python",
   "name": "python3"
  },
  "language_info": {
   "codemirror_mode": {
    "name": "ipython",
    "version": 3
   },
   "file_extension": ".py",
   "mimetype": "text/x-python",
   "name": "python",
   "nbconvert_exporter": "python",
   "pygments_lexer": "ipython3",
   "version": "3.9.12"
  },
  "orig_nbformat": 4
 },
 "nbformat": 4,
 "nbformat_minor": 2
}
